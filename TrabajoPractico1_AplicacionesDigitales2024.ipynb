{
  "nbformat": 4,
  "nbformat_minor": 0,
  "metadata": {
    "colab": {
      "provenance": []
    },
    "kernelspec": {
      "name": "python3",
      "display_name": "Python 3"
    },
    "language_info": {
      "name": "python"
    }
  },
  "cells": [
    {
      "cell_type": "markdown",
      "source": [
        "# **Python: Repaso de conocimientos**\n",
        "\n",
        "##Variables en Python\n",
        "En Python, existen unas variables llamadas primitivas, simples o primarias. Conocer los tipos de datos nos ayuda a identificar las variables y para que sirven, de ahí la importancia de conocer para cada variable su tipo de dato python. estos tipos primarios o primitivos, son la base a partir de la cual se construyen todas las demás complejas.\n",
        "\n",
        "Es importante identificar el tipo de\n",
        " dato que se debe recoger en nuestra variable para diseñar un programa que resuelve bien nuestro problema;\n",
        "\n",
        "Tipo de dato Int o Entero en Python\n",
        "El tipo de dato más simple es int. Es un dato numérico que representa los números enteros (sin coma). El ejemplo lo es la imagen de arriba, veamos algún ejemplo más:\n",
        "\n",
        "altura = 190\n",
        "\n",
        "edad = 30\n",
        "\n",
        "Float o decimales en programación\n",
        "Este tipo de dato hace referencia a valores con decimales (o con coma). En Python se coloca un punto para identificar la parte entera y la decimal.\n",
        "\n",
        "Para construir valores con decimales, se utiliza el punto (.). Un error muy común es utilizar la coma; Python fallará si quieres dar valores con comas:\n",
        "\n",
        "altura = 1.90 # Ejemplo de altura en metros\n",
        "\n",
        "salario = 1549,50 # Esto está mal, se usa el punto\n",
        "\n",
        "salario = 1549.50 # Ahora sí :)\n",
        "\n",
        "Bool o booleanos en Python\n",
        "Son los tipos de datos más peculiares para las personas que se inician en la programación. Simplemente, por ahora debes conocer que puedes crear variables dentro del programa con valores de 'True' o 'False'.\n",
        "\n",
        "esteAnyoEsBisiesto = False\n",
        "\n",
        "esMiTurnoEnPokemon = False\n",
        "\n",
        "Str o string (cadena en inglés)\n",
        "Siendo estrictos, no son tipo de datos simples, sino complejos. Sin embargo, debido a su uso a la hora de empezar a practicar los colocamos aquí.\n",
        "\n",
        "Los textos en programación son cadenas de caracteres. Así, si creamos una variable llamada ‘Python’ o «Python» estamos creando un tren con los siguientes vagones: P + y + t + h + o + n\n",
        "\n",
        "Con estos ingredientes identificados y dominados, podremos empezar a hacer ejercicios identificando las variables de buena manera.\n",
        "\n",
        "\n",
        "Como ves, el tipo de dato que devuelve la última demuestra que podemos intentar convertir entre los diferentes tipos de datos.\n",
        "\n",
        "Vamos con los ejercicios de las Variables en Python para practicar. Recuerda que estos ejercicios pertenecen a nuestra estupenda guía de Ejercicios de Programación en Python. ¡Practiquemos!\n"
      ],
      "metadata": {
        "id": "ki_rN0M53yjz"
      }
    },
    {
      "cell_type": "markdown",
      "source": [
        "## **Ejercicios de Variables Python**\n",
        "\n",
        "\n"
      ],
      "metadata": {
        "id": "HTEY5RhvUPlY"
      }
    },
    {
      "cell_type": "code",
      "source": [],
      "metadata": {
        "id": "y91FpRpcUxvY"
      },
      "execution_count": null,
      "outputs": []
    },
    {
      "cell_type": "markdown",
      "source": [
        "###Ejercicio 2\n",
        "Crea una variable numérica tipo int. Después, multiplica por dos y divídelo entre 1.5. Debes hacerlo en dos pasos.\n",
        "\n",
        "Revisa el tipo de dato después de las operaciones para finalizar. Utiliza la función type( variable ) dentro del print( )\n"
      ],
      "metadata": {
        "id": "iWOW2ndHUuDT"
      }
    },
    {
      "cell_type": "markdown",
      "source": [
        "###Ejercicio 1\n",
        "Escribir ‘Hola Mundo!‘ por pantalla.\n"
      ],
      "metadata": {
        "id": "ZO02NtkGUYE6"
      }
    },
    {
      "cell_type": "code",
      "source": [],
      "metadata": {
        "id": "yMGY2SKzUyZS"
      },
      "execution_count": null,
      "outputs": []
    },
    {
      "cell_type": "markdown",
      "source": [
        "### Ejercicio 3\n",
        "Calcular los intereses que tendrás si inviertes 100.000€ (capitalInicial) a un 2% (interes) de interés en 10 años (ciclos) debido a la fórmula del interés compuesto.\n",
        "\n",
        "Pista: Tienes un montón de información al respecto en Internet. Localiza la fórmula del interés compuesto.\n",
        "\n",
        "Paso 2: Intenta hacer que pida todos los datos al usuario. Utiliza la función input()."
      ],
      "metadata": {
        "id": "Amp4mYc6U_rh"
      }
    },
    {
      "cell_type": "code",
      "source": [],
      "metadata": {
        "id": "eTFifdjIVOSM"
      },
      "execution_count": null,
      "outputs": []
    },
    {
      "cell_type": "markdown",
      "source": [
        "### Ejercicio 4\n",
        "Desarrollar un programa que calcula el voltaje que cae en una resistencia cuando los valores de la intensidad y la resistencia son conocidos.\n",
        "\n",
        "La Ley de Ohm nos indica que voltaje = intensidad * resistencia\n",
        "\n",
        "Ejemplo: Para un valor de la intensidad igual a 3 amperios y un valor de la resistencia de 4 ohmios el valor del voltaje es de 12 voltios.\n",
        "\n",
        "Nota: Son datos y valores ficticios para practicar. Puede haber erratas de contexto."
      ],
      "metadata": {
        "id": "en6RaZRaVThH"
      }
    },
    {
      "cell_type": "code",
      "source": [],
      "metadata": {
        "id": "KJ4AnHrRVugG"
      },
      "execution_count": null,
      "outputs": []
    },
    {
      "cell_type": "markdown",
      "source": [
        "###Ejercicio 5\n",
        "Esta vez, te pedimos calcular el factorial de un número.\n",
        "\n",
        "Ejemplo:\n",
        "\n",
        "5! = 5 x 4 x 3 x 2 x 1 y el resultado es 120.\n",
        "\n",
        "2! = 2 x 1 esta vez, el resultado es 2.\n",
        "\n",
        "10! = 10 x 9 x 8 x 7 x 6 x 5 x 4 x 3 x 2 x 1 resultado: 3628800."
      ],
      "metadata": {
        "id": "QJvZLACRVtnp"
      }
    },
    {
      "cell_type": "code",
      "source": [],
      "metadata": {
        "id": "u5F3Rg97V7mG"
      },
      "execution_count": null,
      "outputs": []
    },
    {
      "cell_type": "markdown",
      "source": [
        "### Ejercicio 6\n",
        "Para un equipo de Analítica Avanzada de Google nos piden calcular el CTR de nuestra campaña de Márketing para venta de cursos. Nos dan la siguiente información: impresiones, clicks, tiempoPorSession y CPC. Investiga qué son cada elemento y cómo se calcula el CTR.\n",
        "\n",
        "Nota: Son datos y valores ficticios para practicar."
      ],
      "metadata": {
        "id": "wR7RnipWV82j"
      }
    },
    {
      "cell_type": "code",
      "source": [],
      "metadata": {
        "id": "ojyMhgAzV8Xl"
      },
      "execution_count": null,
      "outputs": []
    },
    {
      "cell_type": "markdown",
      "source": [
        "##*Condicionales*"
      ],
      "metadata": {
        "id": "9dfqY8r5WWdn"
      }
    },
    {
      "cell_type": "markdown",
      "source": [
        "###Condicionales if elif else en Python\n",
        "En Python al igual que en otros lenguajes de programación podemos dirigir el camino del programa según el criterio de uno a varias condiciones. Ser capaces de dirigir nuestro software es clave, ya que dependiendo de algunas condiciones conseguimos proteger nuestro programa de ciertos fallos.\n",
        "Ejemplos de uso de if en Python\n",
        "Entiende que los programas siempre se ejecutan de arriba hacia abajo, de manera secuencial. Es por eso que hay veces que tenemos que entender que el programa puede ir por algunos caminos diferentes, veamos 3 ejemplos claros:\n",
        "\n",
        "* Decidir si pasa alguien, según si es mayor de edad o no\n",
        "* Pagar un precio u otro a la hora de entrar con el carné de familia numerosa al transporte público\n",
        "* Decidir quien ataca en un combate de turnos (por ejemplo, en Pokemon)\n",
        "\n",
        "Todas estas decisiones, son diseñadas de antemano para que cuando suceda haya sido pensada de antemano; sino, el sistema no funcionará o peor aún, dará un pantallazo azul. En esencia, las condicionales en Python o en cualquier lenguaje de programación buscan identificar los caminos posibles para dejarlos preparados de antemano y saber qué hacer.\n",
        "Para dominar las condiciones en Python es clave manerar los operadores aritméticos, lógicos y de programación; ya que realmente las estructuras condicionales en programación se compone de preguntas que son o ciertas o falsas.\n",
        "Si te hace falta repasar, no olvides que en la materia Programación, dentro del capitulo de \"Algebra de Boole\", analizamos cada uno de los operadores aritmeticos, logicos y booleanos que se utilizan dentro de la programación."
      ],
      "metadata": {
        "id": "MUXkvfrGWa2N"
      }
    },
    {
      "cell_type": "markdown",
      "source": [
        "## Ejercicios de Condicionales"
      ],
      "metadata": {
        "id": "abNCXV2ZXr-g"
      }
    },
    {
      "cell_type": "markdown",
      "source": [
        "###Ejercicio 1\n",
        "Determinar si alguien es menor de edad o no. Pide al usuario la edad por pantalla e imprime por pantalla."
      ],
      "metadata": {
        "id": "phbMJeS-Xvgc"
      }
    },
    {
      "cell_type": "code",
      "source": [],
      "metadata": {
        "id": "bYgK9-OIX5bq"
      },
      "execution_count": null,
      "outputs": []
    },
    {
      "cell_type": "markdown",
      "source": [
        "###Ejercicio 2\n",
        "Haz una calculadora básica que permita realizar el cálculo de la hipotenusa de un triángulo, vigilando que ningún cateto debe ser menor o igual a cero. Si se diera el caso, imprimir «Error» por pantalla."
      ],
      "metadata": {
        "id": "cLiQq3kpXzRo"
      }
    },
    {
      "cell_type": "code",
      "source": [],
      "metadata": {
        "id": "TYdHxNzdX6Eq"
      },
      "execution_count": null,
      "outputs": []
    },
    {
      "cell_type": "markdown",
      "source": [
        "###Ejercicio 3\n",
        "Guarda una contraseña como password. Crea un sistema de seguridad donde el ordenador muestra un mensaje 'Ordenador bloqueado. Contraseña incorrecta.' si el usuario falla la contraseña. En caso contrario, que muestre por pantalla 'Bienvenid@...'."
      ],
      "metadata": {
        "id": "XXL2e4iGX1X_"
      }
    },
    {
      "cell_type": "code",
      "source": [],
      "metadata": {
        "id": "umGjO_RTX6sN"
      },
      "execution_count": null,
      "outputs": []
    },
    {
      "cell_type": "markdown",
      "source": [
        "###Ejercicio 4\n",
        "Partiendo de la tarifa anual (que puede cambiar), nos piden que debemos calcular el precio de la tarifa de nuestro polideportivo, sabiendo las siguientes condiciones:\n",
        "\n",
        "Criterio 1: Si es mayor de edad y está trabajando -> Paga el 100%\n",
        "Criterio 2: Si es menor de edad y está trabajando -> Paga el 95%\n",
        "Criterio 3: Si es mayor de edad y no está trabajando -> Paga el 75%\n",
        "Criterio 4: Si es menor de edad y no está trabajando -> Paga el 50%"
      ],
      "metadata": {
        "id": "Gr5pnmN0X16Z"
      }
    },
    {
      "cell_type": "code",
      "source": [],
      "metadata": {
        "id": "vXvq7nXRX8tV"
      },
      "execution_count": null,
      "outputs": []
    },
    {
      "cell_type": "markdown",
      "source": [
        "###Ejercicio 5\n",
        "La pizzería Bella Napoli ofrece pizzas vegetarianas y no vegetarianas a sus clientes.\n",
        "Los ingredientes para cada tipo de pizza aparecen a continuación.\n",
        "\n",
        "Ingredientes vegetarianos: Pimiento y tofu.\n",
        "Ingredientes no vegetarianos: Peperoni, Jamón y Salmón.\n",
        "\n",
        "Escribir un programa que pregunte al usuario si quiere una pizza vegetariana o no y en función de su respuesta le muestre un menú con los ingredientes disponibles para que elija.\n",
        "\n",
        "Solo se puede eligir un ingrediente además de la mozzarella y el tomate que están en todas la pizzas.\n",
        "\n",
        "Al final se debe mostrar por pantalla si la pizza elegida es vegetariana o no y todos los ingredientes que lleva."
      ],
      "metadata": {
        "id": "2A1NERYfX2Yy"
      }
    },
    {
      "cell_type": "code",
      "source": [],
      "metadata": {
        "id": "HniMWXhEX93i"
      },
      "execution_count": null,
      "outputs": []
    },
    {
      "cell_type": "markdown",
      "source": [
        "##**For y While Python: Los bucles en programación**\n",
        "Los bucles son estructuras de control de Python que son muy útiles en situaciones de repetición. Veamos dos ejemplos:\n",
        "\n",
        "Imagina que estás en un combate Pokemon. Realmente, una vez se ha iniciado la batalla habrá un turno del atacante. Puede que seamos nosotros, puede que sea el contricante. Sin embargo, hasta que alguno de los dos muera no terminará el combate. Como ves, es una condición que no sabemos cuando va a darse pero lo tenemos identificado: utilizaremos while en estos casos.\n",
        "Por otra parte, tenemos el for. Se dice que si sabemos el número de veces en los que se repite un proceso se debe utilizar for. (el cálculo de un factorial es desde N = el número que sea hasta 1).\n",
        "Bucles for en Python\n",
        "Los bucles for y los bucles while en Python se utilizan para repetir operaciones, pero tienen algunas diferencias. Por ejemplo, los bucles for pueden iterar sobre una secuencia de elementos, como una lista o tupla, permitiéndote ejecutar una operación sobre cada elemento de la secuencia uno a uno.\n",
        "\n",
        "####Sintaxis for en Python\n",
        "\n",
        "\n",
        "```python\n",
        "cursos = [\"IA\", \"Big Data\", \"SQL\", \"Python\", \"SEO\"]\n",
        "for x in cursos:\n",
        "  print(x)\n",
        "```\n",
        "En cambio, los bucles while se utilizan para repetir una operación hasta que la condición especificada en su declaración sea falsa. Aunque la mayoría de las estructuras de bucle for y while en Python realizan la misma tarea básica, los bucles for utilizan conjuntos de datos con longitudes predeterminadas que les permiten completarse más rápidamente que un bucle while.\n",
        "\n",
        "Esto hace que los bucles for sean más adecuados para aplicaciones en las que el tamaño del conjunto de datos se conoce antes de comenzar la iteración y en las que cada elemento del conjunto debe leerse en orden.\n",
        "\n",
        "###Bucles While en Python\n",
        "Los bucles while son una herramienta de programación que puede utilizarse para ejecutar código durante un número específico de veces, o hasta que se cumpla una determinada condición. Los bucles While son especialmente útiles si se desconoce el número exacto de instancias en las que debe ejecutarse el bucle, ya que seguirá iterando hasta que se cumplan sus condiciones.\n",
        "\n",
        "Junto a las estructuras de control condicionales el control de bucles, FOR y WHILE, son las dos principales herramientas que tenemos para dirigir el programa.\n",
        "\n",
        "Un ejemplo habitual de su utilidad es la búsqueda de información en grandes conjuntos de datos, ya que el bucle se detendrá automáticamente al encontrar los datos deseados, ahorrando tiempo y recursos en el proceso.\n",
        "\n",
        "####Sintaxis While en Python\n",
        "\n",
        "\n",
        "```python\n",
        "i = 1\n",
        "print('Insertando Pin…')\n",
        "while i < 3:\n",
        "print('ERROR. Sigue intentando insertar el PIN… Tienes ',3 - i ,'intentos.')\n",
        "i += 1\n",
        "print('Has superado los 3 intentos. Llamando a @policia…')\n",
        "```\n",
        "\n"
      ],
      "metadata": {
        "id": "U_bOX5FXX8DU"
      }
    },
    {
      "cell_type": "markdown",
      "source": [
        "##**Ejercicios de Bucles For y While**"
      ],
      "metadata": {
        "id": "SEId0Cq_ZuHK"
      }
    },
    {
      "cell_type": "markdown",
      "source": [
        "Pista: Antes de ponerte a hacer los ejercicios, identifica el problema bien. Si es una condición dada, sera una estructura while. En caso de saber el número de iteraciones será for.\n",
        "\n",
        "Si quieres saber ques es while en python y como se utiliza nada como ponerte en marcha. La mejor manera será que juegues con los ejercicios de for y while en Python; de esa manera, aprenderás sus diferencias de manera experimental."
      ],
      "metadata": {
        "id": "lFOgbItsZzdh"
      }
    },
    {
      "cell_type": "markdown",
      "source": [
        "###Ejercicio 1\n",
        "Imprimir los números del 1 al 10.\n"
      ],
      "metadata": {
        "id": "R0pWVCQGZ5mU"
      }
    },
    {
      "cell_type": "code",
      "source": [],
      "metadata": {
        "id": "MjLU6o_BYC4c"
      },
      "execution_count": null,
      "outputs": []
    },
    {
      "cell_type": "markdown",
      "source": [
        "###Ejercicio 2\n",
        "Partiendo de una frase imprimir palabra por palabra y un contador de palabras totales."
      ],
      "metadata": {
        "id": "ZzINbKtgaJjV"
      }
    },
    {
      "cell_type": "code",
      "source": [],
      "metadata": {
        "id": "K7GfzOp8aPdX"
      },
      "execution_count": null,
      "outputs": []
    },
    {
      "cell_type": "markdown",
      "source": [
        "###Ejercicio 3\n",
        "Tenemos la pantalla del celu bloqueada. Partiendo de un PIN_SECRETO, intentaremos desbloquear la pantalla. Tenemos hasta 3 intentos. Simula el proceso con Python. En caso de acceder, lanza al usuario 'login correcto'. Sino, 'llamando al policía'."
      ],
      "metadata": {
        "id": "yCHT-1B5aOci"
      }
    },
    {
      "cell_type": "code",
      "source": [],
      "metadata": {
        "id": "EaGeB91tarDr"
      },
      "execution_count": null,
      "outputs": []
    },
    {
      "cell_type": "markdown",
      "source": [
        "###Ejercicio 4\n",
        "Calcula la Hipotenusa. Para ello, pide al usuario que te de el valor de los catetos. Por seacaso, comprueba que los catetos son mayores a 0. Hasta que estos datos sean validados no calcular."
      ],
      "metadata": {
        "id": "NqcvYs2parho"
      }
    },
    {
      "cell_type": "code",
      "source": [],
      "metadata": {
        "id": "b5LT7AXLay0F"
      },
      "execution_count": null,
      "outputs": []
    },
    {
      "cell_type": "markdown",
      "source": [
        "###Ejercicio 5\n",
        "Vamos a diseñar una calculadora que se enciende y hasta que no tecleamos 'SAL' no se apaga.\n",
        "\n",
        "Esta calculadora funciona de la siguiente manera:\n",
        "\n",
        "Recogemos los datos A y B\n",
        "Si operación es 1 calcula la raíz cuadrada de la suma de A y B\n",
        "Si operación es 2 calcula A / B. Vigilamos que B no sea 0...\n",
        "Si la operación es 3 calculamos la siguiente fórmula: ( A * B ) / 2.5\n"
      ],
      "metadata": {
        "id": "4op3Lb4ia13-"
      }
    },
    {
      "cell_type": "code",
      "source": [],
      "metadata": {
        "id": "9_8eM9sVa-MB"
      },
      "execution_count": null,
      "outputs": []
    },
    {
      "cell_type": "markdown",
      "source": [
        "###Ejercicio 6\n",
        "Haz un motor de videojuegos para dos personajes (A y B). Funciona de la siguiente manera:\n",
        "\n",
        "Empieza el combate y se decide aleatoriamente quien empieza.\n",
        "Si ataca A restará su ataqueA a defensaB.\n",
        "Cambio de turno. Le toca a B. Realiza el ataque.\n",
        "Así hasta que alguno sea derrotado. (Recordar que cada personaje tiene un conteo de puntos de vida)\n"
      ],
      "metadata": {
        "id": "Bu2W99Aka-aV"
      }
    },
    {
      "cell_type": "code",
      "source": [],
      "metadata": {
        "id": "H9dHLo2XbLTi"
      },
      "execution_count": null,
      "outputs": []
    },
    {
      "cell_type": "markdown",
      "source": [
        "##**Listas en Python**\n",
        "###¿Qué es una Lista?\n",
        "Una lista en Python es una colección ordenada de valores de datos a la que se puede acceder utilizando índices numéricos. Este tipo de datos son versátiles y pueden contener cualquier combinación de datos, como cadenas, flotantes, enteros ¡e incluso otras listas! Nos permiten organizar nuestros datos de forma útil, permitiéndonos acceder fácilmente a los elementos de uno en uno o por trozos. Además, pueden utilizarse dentro de funciones para crear programas más potentes. Dominar las listas es clave para un correcto desarrollo de aplicaciones.\n",
        "\n",
        "En general, una lista es una colección de elementos que forman un grupo unido. En detalle, las listas tienen las siguientes características:\n",
        "\n",
        "* Las listas en Python una lista se inicializa así: miLista = [valor1, valor2, ... , valorn]\n",
        "* Una lista en programación es modificable y puede cambiar a lo largo del tiempo\n",
        "* El primer elemento empieza en la posición 0. Para el primer valor se consulta así: miLista[0]\n",
        "* Funciones Básicas de Listas en Python: métodos disponibles\n",
        "###Listas Anidadas en Python\n",
        "Existe la posibilidad de colocar una lista dentro de otra lista, de hecho, se parece a una matriz. Fíjate, crearemos un elemento de lista y después colocaremos otra lista para consultar sobre ella:\n",
        "\n",
        "\n",
        "```python\n",
        "lista = [ 1, 2, [3, 4] ]\n",
        "print( lista[-1][0] )\n",
        "```\n",
        "###Tupla vs Listas en Python y Programación\n",
        "En programación muy habitualmente necesimatos de un número de variables de elementos que queremos agrupar para resolver un problema o transformar los datos. La diferencia de las listas y las tuplas principalmente se basan en la capacidad de modificación de alguno de los elementos de la colección.\n",
        "\n",
        "En primer lugar, el orden de los elementos almacenados en una lista puede modificarse, lo que no ocurre con las tuplas. En segundo lugar, mientras que las tuplas son inmutables y, por tanto, sólo pueden almacenar conjuntos estáticos de datos, las listas son dinámicas y pueden contener múltiples tipos de objetos, como números, cadenas e incluso otras colecciones como diccionarios.\n",
        "\n",
        "¿Cuando utilizar las Listas en Python?\n",
        "* Si buscas almacenar datos en tu programa donde los valores se modifican.\n",
        "* Si eliminas o añadirás alguno de los elementos.\n",
        "¿Cuando cuando utilizar Tuplas en Python?\n",
        "* Cuando los elementos de la colección son fijos y no pueden cambiar para resolver el reto en tu programa. A esta propiedad se le llama inmutabilidad.\n",
        "* Cuando buscas proteger los elementos y categorías si son muy relevantes dentro de tu aplicación\n",
        "\n",
        "No olvides ver el libro de la bibliografia de la materia para aprender mas sobre funciones de listas para poder continuar aprendiendo como manipularlas, y dicho sea de paso, será necesario contar con el libro desde este punto para realizar los ejercicios.\n"
      ],
      "metadata": {
        "id": "KI8FS2pfbLj-"
      }
    },
    {
      "cell_type": "markdown",
      "source": [
        "###Ejercicio 1\n",
        "Realiza el Ejercicio 10 de los bucles (sistema de turnos de un videojuego). Utiliza ese mismo código y define los ataque y defensa de los personajes dentro de una lista, por personaje.\n"
      ],
      "metadata": {
        "id": "ohbuIRyMcqcJ"
      }
    },
    {
      "cell_type": "code",
      "source": [],
      "metadata": {
        "id": "M2AmTV5XcwRO"
      },
      "execution_count": null,
      "outputs": []
    },
    {
      "cell_type": "markdown",
      "source": [
        "\n",
        "###Ejercicio 2\n",
        "Pedir la puntuación media de las personas para cada asignatura de un curso a partir de un número de personas. Deberás iniciar los cursos para después añadir el número de alumnos y pedir las puntuaciones media. Ejemplo del programa resultado:\n",
        "\n",
        "Insertar la lista de los nombres de las asignaturas del instituto BigBayData.com\n",
        "\n",
        "El usuario introduce: Python,SQL,Hadoop,Js,Html,Css,Swift\n",
        "\n",
        "Genial. Ahora introduce las puntuaciones uno por uno en Python:\n",
        "\n",
        "Introducimos las puntuaciones de los alumnos por cada alumno para cada curso.\n",
        "\n",
        "Resultado de las evaluaciones este año:\n",
        "\n",
        "[Python, 12 alumnos. Nota media: 7.6, Suspensos: 2]\n",
        "\n",
        "[SQL, 12 alumnos. Nota media: 6.9, Suspensos: 1]"
      ],
      "metadata": {
        "id": "AifjBiHPcwgT"
      }
    },
    {
      "cell_type": "code",
      "source": [],
      "metadata": {
        "id": "H0scBzrvc2s1"
      },
      "execution_count": null,
      "outputs": []
    },
    {
      "cell_type": "markdown",
      "source": [
        "###Ejercicio 3\n",
        "Imagina un sistema de nombres donde queremos identificar el nombre más común. Para ello primero pide al usuario que inserte nombres. Utiliza la estructura do-while.\n",
        "\n",
        "Introduce los nombres... (-1 para terminar)\n",
        "\n",
        "carmen,julia,juan,carmen,carmen,julia\n",
        "carmen: 3,julia: 2,juan: 1\n",
        "\n"
      ],
      "metadata": {
        "id": "h4evQIqRcwzT"
      }
    },
    {
      "cell_type": "code",
      "source": [],
      "metadata": {
        "id": "_ZHoRtY8dEKu"
      },
      "execution_count": null,
      "outputs": []
    },
    {
      "cell_type": "markdown",
      "source": [
        "###Ejercicio 4\n",
        "Utiliza el ejercicio anterior y modifícalo para, una vez se añaden los usuarios, se eliminen los duplicados.\n"
      ],
      "metadata": {
        "id": "zATK3b5cdEZk"
      }
    },
    {
      "cell_type": "code",
      "source": [],
      "metadata": {
        "id": "sHvDQyj2dHpk"
      },
      "execution_count": null,
      "outputs": []
    },
    {
      "cell_type": "markdown",
      "source": [
        "###Ejercicio 5\n",
        "Calcular la tabla de multiplicar de los 20 primeros números dado un número. La lista, según su posición, almacenará el resultado de la multiplicación.\n",
        "\n",
        "\n"
      ],
      "metadata": {
        "id": "6o2YqmI5dH34"
      }
    },
    {
      "cell_type": "code",
      "source": [],
      "metadata": {
        "id": "88qxyi90dPes"
      },
      "execution_count": null,
      "outputs": []
    },
    {
      "cell_type": "markdown",
      "source": [
        "###Ejercicio 6\n",
        "Haz un programa que inicialice una lista con los primeros 10 números primos. Después, ordenalos de mayor a menor.\n",
        "\n"
      ],
      "metadata": {
        "id": "zXvt_C_3dPtB"
      }
    },
    {
      "cell_type": "code",
      "source": [],
      "metadata": {
        "id": "ntsrfBVidSGF"
      },
      "execution_count": null,
      "outputs": []
    },
    {
      "cell_type": "markdown",
      "source": [
        "Ejercicio 7\n",
        "Simula una cesta de la compra. Después, una vez tengas la lista de la compra, elimina el último elemento. Después, invierte los elementos de la lista y muestra qué queda de resultado.\n",
        "\n",
        "Pista: Utiliza la función pop()"
      ],
      "metadata": {
        "id": "dXJgynuNdSaJ"
      }
    },
    {
      "cell_type": "code",
      "source": [],
      "metadata": {
        "id": "aAsU6L20dU5u"
      },
      "execution_count": null,
      "outputs": []
    },
    {
      "cell_type": "markdown",
      "source": [
        "Ejercicio 8\n",
        "Añade las estadísticas de los primeros 10 pokemon en nuestra pokedex. Fíjate qué estadísticas quieres para todos los pokemon. Aquí algunas sugerencias: nombre, ataque, hp, defensa, velocidad, at_Esp, def_Esp\n",
        "\n",
        "Después, utiliza la lista como una pokedex para consultarlo."
      ],
      "metadata": {
        "id": "fuD1ZJsidVSt"
      }
    },
    {
      "cell_type": "code",
      "source": [],
      "metadata": {
        "id": "mJJ8klWEdYOJ"
      },
      "execution_count": null,
      "outputs": []
    },
    {
      "cell_type": "markdown",
      "source": [
        "###Ejercicio 9\n",
        "Imagina construir un sistema de planning de vuelos de un aeropuerto cercano. Crea una planificación donde dentro contiene, por día de la semana, horario, compañia, duracion_estimada, tipo_avion. Utiliza una lista dentro de otra lista.\n",
        "\n",
        "PD: Después de llenar los datos necesitarás ofrecer al usuario ver la información.\n"
      ],
      "metadata": {
        "id": "H-Pwtr4ndYce"
      }
    },
    {
      "cell_type": "code",
      "source": [],
      "metadata": {
        "id": "gDA1toB8dcqr"
      },
      "execution_count": null,
      "outputs": []
    },
    {
      "cell_type": "markdown",
      "source": [
        "###Ejercicio 10\n",
        "Haz un sistema de ordenamiento de ayudas para tu comunidad. La idea es que insertes todos los emails que quieras para, aleatoriamente, ofrecer N ayudas. El objetivo es tener un sistema justo de ayudas para repartir entre la ciudadanía que se postula. Una vez lo tengas, desarrolla un sistema de envío automático por correo."
      ],
      "metadata": {
        "id": "ysUskJRudc6T"
      }
    },
    {
      "cell_type": "code",
      "source": [],
      "metadata": {
        "id": "nP3O5lpidp2a"
      },
      "execution_count": null,
      "outputs": []
    },
    {
      "cell_type": "markdown",
      "source": [
        "##FAQs sobre listas\n",
        "**¿Qué son las listas Python?**\n",
        "Son colecciones modificables, muy útiles para agrupar elementos que cambian a lo largo del tiempo.\n",
        "\n",
        "**¿Cómo hacer una lista en Python?**\n",
        "miNuevaLista = [ ‘aaa’, 1, 3.2, False ] #Corchetes\n",
        "\n",
        "**¿Qué es y para qué sirve una lista en Python?**\n",
        "Es como un vagón de trenes para que utilices el tren como almacén de datos en el programa.\n",
        "\n",
        "**¿Cómo crear una lista del 1 al 10 en Python?**\n",
        "x = list(range(0,10))\n",
        "\n",
        "**¿Cómo se crea una lista vacía en Python?**\n",
        "miNuevaListaVacia = [ ] #Corchetes"
      ],
      "metadata": {
        "id": "Vi4JH_VHdqKt"
      }
    }
  ]
}