{
  "nbformat": 4,
  "nbformat_minor": 0,
  "metadata": {
    "colab": {
      "provenance": []
    },
    "kernelspec": {
      "name": "python3",
      "display_name": "Python 3"
    },
    "language_info": {
      "name": "python"
    }
  },
  "cells": [
    {
      "cell_type": "markdown",
      "source": [
        "# **Python: Repaso de conocimientos**\n",
        "\n",
        "##Variables en Python\n",
        "En Python, existen unas variables llamadas primitivas, simples o primarias. Conocer los tipos de datos nos ayuda a identificar las variables y para que sirven, de ahí la importancia de conocer para cada variable su tipo de dato python. estos tipos primarios o primitivos, son la base a partir de la cual se construyen todas las demás complejas.\n",
        "\n",
        "Es importante identificar el tipo de\n",
        " dato que se debe recoger en nuestra variable para diseñar un programa que resuelve bien nuestro problema;\n",
        "\n",
        "Tipo de dato Int o Entero en Python\n",
        "El tipo de dato más simple es int. Es un dato numérico que representa los números enteros (sin coma). El ejemplo lo es la imagen de arriba, veamos algún ejemplo más:\n",
        "\n",
        "altura = 190\n",
        "\n",
        "edad = 30\n",
        "\n",
        "Float o decimales en programación\n",
        "Este tipo de dato hace referencia a valores con decimales (o con coma). En Python se coloca un punto para identificar la parte entera y la decimal.\n",
        "\n",
        "Para construir valores con decimales, se utiliza el punto (.). Un error muy común es utilizar la coma; Python fallará si quieres dar valores con comas:\n",
        "\n",
        "altura = 1.90 # Ejemplo de altura en metros\n",
        "\n",
        "salario = 1549,50 # Esto está mal, se usa el punto\n",
        "\n",
        "salario = 1549.50 # Ahora sí :)\n",
        "\n",
        "Bool o booleanos en Python\n",
        "Son los tipos de datos más peculiares para las personas que se inician en la programación. Simplemente, por ahora debes conocer que puedes crear variables dentro del programa con valores de 'True' o 'False'.\n",
        "\n",
        "esteAnyoEsBisiesto = False\n",
        "\n",
        "esMiTurnoEnPokemon = False\n",
        "\n",
        "Str o string (cadena en inglés)\n",
        "Siendo estrictos, no son tipo de datos simples, sino complejos. Sin embargo, debido a su uso a la hora de empezar a practicar los colocamos aquí.\n",
        "\n",
        "Los textos en programación son cadenas de caracteres. Así, si creamos una variable llamada ‘Python’ o «Python» estamos creando un tren con los siguientes vagones: P + y + t + h + o + n\n",
        "\n",
        "Con estos ingredientes identificados y dominados, podremos empezar a hacer ejercicios identificando las variables de buena manera.\n",
        "\n",
        "\n",
        "Como ves, el tipo de dato que devuelve la última demuestra que podemos intentar convertir entre los diferentes tipos de datos.\n",
        "\n",
        "Vamos con los ejercicios de las Variables en Python para practicar. Recuerda que estos ejercicios pertenecen a nuestra estupenda guía de Ejercicios de Programación en Python. ¡Practiquemos!\n"
      ],
      "metadata": {
        "id": "ki_rN0M53yjz"
      }
    },
    {
      "cell_type": "markdown",
      "source": [
        "## **Ejercicios de Variables Python**\n",
        "\n",
        "\n"
      ],
      "metadata": {
        "id": "HTEY5RhvUPlY"
      }
    },
    {
      "cell_type": "markdown",
      "source": [
        "###Ejercicio 1\n",
        "Escribir ‘Hola Mundo!‘ por pantalla.\n"
      ],
      "metadata": {
        "id": "ZO02NtkGUYE6"
      }
    },
    {
      "cell_type": "code",
      "source": [
        "print(\"Hola mundo\")"
      ],
      "metadata": {
        "id": "y91FpRpcUxvY"
      },
      "execution_count": null,
      "outputs": []
    },
    {
      "cell_type": "markdown",
      "source": [
        "###Ejercicio 2\n",
        "Crea una variable numérica tipo int. Después, multiplica por dos y divídelo entre 1.5. Debes hacerlo en dos pasos.\n",
        "\n",
        "Revisa el tipo de dato después de las operaciones para finalizar. Utiliza la función type( variable ) dentro del print( )\n"
      ],
      "metadata": {
        "id": "iWOW2ndHUuDT"
      }
    },
    {
      "cell_type": "code",
      "source": [
        "num_a = 4\n",
        "int(num_a)\n",
        "res = (num_a*2)/1.5\n",
        "print(num_a,type(num_a))"
      ],
      "metadata": {
        "id": "yMGY2SKzUyZS",
        "colab": {
          "base_uri": "https://localhost:8080/"
        },
        "outputId": "e545f934-ce67-4f33-957d-c1f5eb32dc66"
      },
      "execution_count": null,
      "outputs": [
        {
          "output_type": "stream",
          "name": "stdout",
          "text": [
            "4 <class 'int'>\n"
          ]
        }
      ]
    },
    {
      "cell_type": "markdown",
      "source": [
        "### Ejercicio 3\n",
        "Calcular los intereses que tendrás si inviertes 100.000€ (capitalInicial) a un 2% (interes) de interés en 10 años (ciclos) debido a la fórmula del interés compuesto.\n",
        "\n",
        "Pista: Tienes un montón de información al respecto en Internet. Localiza la fórmula del interés compuesto.\n",
        "\n",
        "Paso 2: Intenta hacer que pida todos los datos al usuario. Utiliza la función input()."
      ],
      "metadata": {
        "id": "Amp4mYc6U_rh"
      }
    },
    {
      "cell_type": "code",
      "source": [
        "## Paso 1\n",
        "ci = 100000\n",
        "cf = ci*(1+0.02)**10\n",
        "print(cf)\n",
        "\n",
        "## Paso 2\n",
        "ci = float(input(\"monto inicial \"))\n",
        "i = float(input(\"tasa de interes (Ingresar valor con coma; Ejemplo 0,n con n igual al valor del porcentaje sin el signo %)\"))\n",
        "n = float(input(\"Años \"))\n",
        "print(\"Monto final sera \",ci*(1+i)**n)"
      ],
      "metadata": {
        "id": "eTFifdjIVOSM",
        "colab": {
          "base_uri": "https://localhost:8080/"
        },
        "outputId": "37bb1a81-e79d-4601-a5cb-91e93868a569"
      },
      "execution_count": null,
      "outputs": [
        {
          "output_type": "stream",
          "name": "stdout",
          "text": [
            "121899.44199947573\n",
            "monto inicial 100000\n",
            "tasa de interes (Ingresar valor con coma; Ejemplo 0,n con n igual al valor del porcentaje sin el signo %)0.2\n",
            "Años 10\n",
            "Monto final sera  619173.6422399997\n"
          ]
        }
      ]
    },
    {
      "cell_type": "markdown",
      "source": [
        "### Ejercicio 4\n",
        "Desarrollar un programa que calcula el voltaje que cae en una resistencia cuando los valores de la intensidad y la resistencia son conocidos.\n",
        "\n",
        "La Ley de Ohm nos indica que voltaje = intensidad * resistencia\n",
        "\n",
        "Ejemplo: Para un valor de la intensidad igual a 3 amperios y un valor de la resistencia de 4 ohmios el valor del voltaje es de 12 voltios.\n",
        "\n",
        "Nota: Son datos y valores ficticios para practicar. Puede haber erratas de contexto."
      ],
      "metadata": {
        "id": "en6RaZRaVThH"
      }
    },
    {
      "cell_type": "code",
      "source": [
        "res = 4\n",
        "inten = 3\n",
        "volt = inten * res\n",
        "print(volt)\n",
        "## el ejercicio solicita valores conocidos, pueden ser ingresados por el alumno por lo tanto;\n",
        "\n",
        "res = float(input(\"Indicar valor de resistencia en ohm \"))\n",
        "inten = float(input(\"Indicar valor de intensidad en amper \"))\n",
        "volt = inten * res\n",
        "print(volt)"
      ],
      "metadata": {
        "id": "KJ4AnHrRVugG",
        "colab": {
          "base_uri": "https://localhost:8080/"
        },
        "outputId": "63a40601-1467-4dc1-9bc8-3a11b57d07ab"
      },
      "execution_count": null,
      "outputs": [
        {
          "output_type": "stream",
          "name": "stdout",
          "text": [
            "12\n",
            "Indicar valor de resistencia en ohm 5\n",
            "Indicar valor de intensidad en amper 6\n",
            "30.0\n"
          ]
        }
      ]
    },
    {
      "cell_type": "markdown",
      "source": [
        "###Ejercicio 5\n",
        "Esta vez, te pedimos calcular el factorial de un número.\n",
        "\n",
        "Ejemplo:\n",
        "\n",
        "5! = 5 x 4 x 3 x 2 x 1 y el resultado es 120.\n",
        "\n",
        "2! = 2 x 1 esta vez, el resultado es 2.\n",
        "\n",
        "10! = 10 x 9 x 8 x 7 x 6 x 5 x 4 x 3 x 2 x 1 resultado: 3628800."
      ],
      "metadata": {
        "id": "QJvZLACRVtnp"
      }
    },
    {
      "cell_type": "code",
      "source": [
        "var = 1\n",
        "fact = int(input(\"Dame el numero\"))\n",
        "for i in range(1,fact+1):\n",
        "  var = var*i\n",
        "print(var)"
      ],
      "metadata": {
        "id": "u5F3Rg97V7mG",
        "colab": {
          "base_uri": "https://localhost:8080/"
        },
        "outputId": "4bf554eb-d475-4d4c-b683-a417fbca084e"
      },
      "execution_count": null,
      "outputs": [
        {
          "output_type": "stream",
          "name": "stdout",
          "text": [
            "Dame el numero5\n",
            "120\n"
          ]
        }
      ]
    },
    {
      "cell_type": "markdown",
      "source": [
        "### Ejercicio 6\n",
        "Para un equipo de Analítica Avanzada de Google nos piden calcular el CTR de nuestra campaña de Márketing para venta de cursos. Nos dan la siguiente información: impresiones, clicks, tiempoPorSession y CPC. Investiga qué son cada elemento y cómo se calcula el CTR.\n",
        "\n",
        "Nota: Son datos y valores ficticios para practicar."
      ],
      "metadata": {
        "id": "wR7RnipWV82j"
      }
    },
    {
      "cell_type": "code",
      "source": [
        "mp = 120\n",
        "cli = 20\n",
        "CTR = (cli/imp)*100\n",
        "print(CTR)"
      ],
      "metadata": {
        "id": "ojyMhgAzV8Xl"
      },
      "execution_count": null,
      "outputs": []
    },
    {
      "cell_type": "markdown",
      "source": [
        "##*Condicionales*"
      ],
      "metadata": {
        "id": "9dfqY8r5WWdn"
      }
    },
    {
      "cell_type": "markdown",
      "source": [
        "###Condicionales if elif else en Python\n",
        "En Python al igual que en otros lenguajes de programación podemos dirigir el camino del programa según el criterio de uno a varias condiciones. Ser capaces de dirigir nuestro software es clave, ya que dependiendo de algunas condiciones conseguimos proteger nuestro programa de ciertos fallos.\n",
        "Ejemplos de uso de if en Python\n",
        "Entiende que los programas siempre se ejecutan de arriba hacia abajo, de manera secuencial. Es por eso que hay veces que tenemos que entender que el programa puede ir por algunos caminos diferentes, veamos 3 ejemplos claros:\n",
        "\n",
        "* Decidir si pasa alguien, según si es mayor de edad o no\n",
        "* Pagar un precio u otro a la hora de entrar con el carné de familia numerosa al transporte público\n",
        "* Decidir quien ataca en un combate de turnos (por ejemplo, en Pokemon)\n",
        "\n",
        "Todas estas decisiones, son diseñadas de antemano para que cuando suceda haya sido pensada de antemano; sino, el sistema no funcionará o peor aún, dará un pantallazo azul. En esencia, las condicionales en Python o en cualquier lenguaje de programación buscan identificar los caminos posibles para dejarlos preparados de antemano y saber qué hacer.\n",
        "Para dominar las condiciones en Python es clave manerar los operadores aritméticos, lógicos y de programación; ya que realmente las estructuras condicionales en programación se compone de preguntas que son o ciertas o falsas.\n",
        "Si te hace falta repasar, no olvides que en la materia Programación, dentro del capitulo de \"Algebra de Boole\", analizamos cada uno de los operadores aritmeticos, logicos y booleanos que se utilizan dentro de la programación."
      ],
      "metadata": {
        "id": "MUXkvfrGWa2N"
      }
    },
    {
      "cell_type": "markdown",
      "source": [
        "## Ejercicios de Condicionales"
      ],
      "metadata": {
        "id": "abNCXV2ZXr-g"
      }
    },
    {
      "cell_type": "markdown",
      "source": [
        "###Ejercicio 1\n",
        "Determinar si alguien es menor de edad o no. Pide al usuario la edad por pantalla e imprime por pantalla."
      ],
      "metadata": {
        "id": "phbMJeS-Xvgc"
      }
    },
    {
      "cell_type": "code",
      "source": [
        "a = int(input(\"escribe tu edad \"))\n",
        "if a>=18:\n",
        "  print(\"sos mayor de edad\")\n",
        "else:\n",
        "  print(\"sos menor de edad\")"
      ],
      "metadata": {
        "id": "bYgK9-OIX5bq"
      },
      "execution_count": null,
      "outputs": []
    },
    {
      "cell_type": "markdown",
      "source": [
        "###Ejercicio 2\n",
        "Haz una calculadora básica que permita realizar el cálculo de la hipotenusa de un triángulo, vigilando que ningún cateto debe ser menor o igual a cero. Si se diera el caso, imprimir «Error» por pantalla."
      ],
      "metadata": {
        "id": "cLiQq3kpXzRo"
      }
    },
    {
      "cell_type": "code",
      "source": [
        "a = int(input(\"escribe el cateto menor \"))\n",
        "b = int(input(\"escribe el cateto mayor \"))\n",
        "if a and b >= 0:\n",
        "  c = (a**2) + (b**2)\n",
        "  h = c**(1/2)\n",
        "  print(h)\n",
        "else:\n",
        "  print(\"error\")"
      ],
      "metadata": {
        "id": "TYdHxNzdX6Eq"
      },
      "execution_count": null,
      "outputs": []
    },
    {
      "cell_type": "markdown",
      "source": [
        "###Ejercicio 3\n",
        "Guarda una contraseña como password. Crea un sistema de seguridad donde el ordenador muestra un mensaje 'Ordenador bloqueado. Contraseña incorrecta.' si el usuario falla la contraseña. En caso contrario, que muestre por pantalla 'Bienvenid@...'."
      ],
      "metadata": {
        "id": "XXL2e4iGX1X_"
      }
    },
    {
      "cell_type": "code",
      "source": [
        "a = input(\"escribe una contraseña \")\n",
        "print(\"ahora tiene una contraseña\")\n",
        "print(\"\")\n",
        "b = input(\"pon tu password \")\n",
        "while b != a :\n",
        "\n",
        "  if c == a :\n",
        "    print(\"contraseña correcta Bienvenid@ \")\n",
        "    break\n",
        "  else:\n",
        "    c = input(\"Ordenador bloqueado. Contraseña incorrecta volve a intentar \")"
      ],
      "metadata": {
        "id": "umGjO_RTX6sN"
      },
      "execution_count": null,
      "outputs": []
    },
    {
      "cell_type": "markdown",
      "source": [
        "###Ejercicio 4\n",
        "Partiendo de la tarifa anual (que puede cambiar), nos piden que debemos calcular el precio de la tarifa de nuestro polideportivo, sabiendo las siguientes condiciones:\n",
        "\n",
        "Criterio 1: Si es mayor de edad y está trabajando -> Paga el 100%\n",
        "Criterio 2: Si es menor de edad y está trabajando -> Paga el 95%\n",
        "Criterio 3: Si es mayor de edad y no está trabajando -> Paga el 75%\n",
        "Criterio 4: Si es menor de edad y no está trabajando -> Paga el 50%"
      ],
      "metadata": {
        "id": "Gr5pnmN0X16Z"
      }
    },
    {
      "cell_type": "code",
      "source": [
        "print(\"la tarifa es 20\")\n",
        "print(\"\")\n",
        "a = int(input(\"escribe tu edad \"))\n",
        "\n",
        "b = int(input(\"Tabajas? si pone 1 o no pone 2: \"))\n",
        "\n",
        "if a>=18 and b == 1:\n",
        "  print(20 )\n",
        "if a>=18 and b != 1:\n",
        "  print((20 * 75)//100 )\n",
        "if a<18 and b == 1:\n",
        "  print((20 * 95)//100 )\n",
        "if a<18 and b != 1:\n",
        "    print((20 * 50)//100 )"
      ],
      "metadata": {
        "id": "vXvq7nXRX8tV"
      },
      "execution_count": null,
      "outputs": []
    },
    {
      "cell_type": "markdown",
      "source": [
        "###Ejercicio 5\n",
        "La pizzería Bella Napoli ofrece pizzas vegetarianas y no vegetarianas a sus clientes.\n",
        "Los ingredientes para cada tipo de pizza aparecen a continuación.\n",
        "\n",
        "Ingredientes vegetarianos: Pimiento y tofu.\n",
        "Ingredientes no vegetarianos: Peperoni, Jamón y Salmón.\n",
        "\n",
        "Escribir un programa que pregunte al usuario si quiere una pizza vegetariana o no y en función de su respuesta le muestre un menú con los ingredientes disponibles para que elija.\n",
        "\n",
        "Solo se puede eligir un ingrediente además de la mozzarella y el tomate que están en todas la pizzas.\n",
        "\n",
        "Al final se debe mostrar por pantalla si la pizza elegida es vegetariana o no y todos los ingredientes que lleva."
      ],
      "metadata": {
        "id": "2A1NERYfX2Yy"
      }
    },
    {
      "cell_type": "code",
      "source": [
        "print(\"bienvenidos a nuestra pizzeria\")\n",
        "a = int(input(\"Quieres una pizza vegetariana? si pone 1 o no pone 2: \"))\n",
        "if a == 2:\n",
        "  b = input(\"tu pizza no es vegetariana elige UN ingrediente: Peperoni, Jamón  y Salmón \")\n",
        "  d = \"Tu pizza es de \"\n",
        "  print(d + b)\n",
        "else:\n",
        "  c = input(\"tu pizza es vegetarianaelige UN ingrediente: Pimiento y tofu \")\n",
        "  print(d + c)"
      ],
      "metadata": {
        "id": "HniMWXhEX93i"
      },
      "execution_count": null,
      "outputs": []
    },
    {
      "cell_type": "markdown",
      "source": [
        "##**For y While Python: Los bucles en programación**\n",
        "Los bucles son estructuras de control de Python que son muy útiles en situaciones de repetición. Veamos dos ejemplos:\n",
        "\n",
        "Imagina que estás en un combate Pokemon. Realmente, una vez se ha iniciado la batalla habrá un turno del atacante. Puede que seamos nosotros, puede que sea el contricante. Sin embargo, hasta que alguno de los dos muera no terminará el combate. Como ves, es una condición que no sabemos cuando va a darse pero lo tenemos identificado: utilizaremos while en estos casos.\n",
        "Por otra parte, tenemos el for. Se dice que si sabemos el número de veces en los que se repite un proceso se debe utilizar for. (el cálculo de un factorial es desde N = el número que sea hasta 1).\n",
        "Bucles for en Python\n",
        "Los bucles for y los bucles while en Python se utilizan para repetir operaciones, pero tienen algunas diferencias. Por ejemplo, los bucles for pueden iterar sobre una secuencia de elementos, como una lista o tupla, permitiéndote ejecutar una operación sobre cada elemento de la secuencia uno a uno.\n",
        "\n",
        "####Sintaxis for en Python\n",
        "\n",
        "\n",
        "```python\n",
        "cursos = [\"IA\", \"Big Data\", \"SQL\", \"Python\", \"SEO\"]\n",
        "for x in cursos:\n",
        "  print(x)\n",
        "```\n",
        "En cambio, los bucles while se utilizan para repetir una operación hasta que la condición especificada en su declaración sea falsa. Aunque la mayoría de las estructuras de bucle for y while en Python realizan la misma tarea básica, los bucles for utilizan conjuntos de datos con longitudes predeterminadas que les permiten completarse más rápidamente que un bucle while.\n",
        "\n",
        "Esto hace que los bucles for sean más adecuados para aplicaciones en las que el tamaño del conjunto de datos se conoce antes de comenzar la iteración y en las que cada elemento del conjunto debe leerse en orden.\n",
        "\n",
        "###Bucles While en Python\n",
        "Los bucles while son una herramienta de programación que puede utilizarse para ejecutar código durante un número específico de veces, o hasta que se cumpla una determinada condición. Los bucles While son especialmente útiles si se desconoce el número exacto de instancias en las que debe ejecutarse el bucle, ya que seguirá iterando hasta que se cumplan sus condiciones.\n",
        "\n",
        "Junto a las estructuras de control condicionales el control de bucles, FOR y WHILE, son las dos principales herramientas que tenemos para dirigir el programa.\n",
        "\n",
        "Un ejemplo habitual de su utilidad es la búsqueda de información en grandes conjuntos de datos, ya que el bucle se detendrá automáticamente al encontrar los datos deseados, ahorrando tiempo y recursos en el proceso.\n",
        "\n",
        "####Sintaxis While en Python\n",
        "\n",
        "\n",
        "```python\n",
        "i = 1\n",
        "print('Insertando Pin…')\n",
        "while i < 3:\n",
        "print('ERROR. Sigue intentando insertar el PIN… Tienes ',3 - i ,'intentos.')\n",
        "i += 1\n",
        "print('Has superado los 3 intentos. Llamando a @policia…')\n",
        "```\n",
        "\n"
      ],
      "metadata": {
        "id": "U_bOX5FXX8DU"
      }
    },
    {
      "cell_type": "markdown",
      "source": [
        "##**Ejercicios de Bucles For y While**"
      ],
      "metadata": {
        "id": "SEId0Cq_ZuHK"
      }
    },
    {
      "cell_type": "markdown",
      "source": [
        "Pista: Antes de ponerte a hacer los ejercicios, identifica el problema bien. Si es una condición dada, sera una estructura while. En caso de saber el número de iteraciones será for.\n",
        "\n",
        "Si quieres saber ques es while en python y como se utiliza nada como ponerte en marcha. La mejor manera será que juegues con los ejercicios de for y while en Python; de esa manera, aprenderás sus diferencias de manera experimental."
      ],
      "metadata": {
        "id": "lFOgbItsZzdh"
      }
    },
    {
      "cell_type": "markdown",
      "source": [
        "###Ejercicio 1\n",
        "Imprimir los números del 1 al 10.\n"
      ],
      "metadata": {
        "id": "R0pWVCQGZ5mU"
      }
    },
    {
      "cell_type": "code",
      "source": [
        "for i in range (1,11):\n",
        "  print(i)"
      ],
      "metadata": {
        "id": "MjLU6o_BYC4c"
      },
      "execution_count": null,
      "outputs": []
    },
    {
      "cell_type": "markdown",
      "source": [
        "###Ejercicio 2\n",
        "Partiendo de una frase imprimir palabra por palabra y un contador de palabras totales."
      ],
      "metadata": {
        "id": "ZzINbKtgaJjV"
      }
    },
    {
      "cell_type": "code",
      "source": [
        "count = 0\n",
        "frase = str(input(\"Ingresar una frase para indicar cant. de palabras \"))\n",
        "palabras = frase.split()\n",
        "for i in palabras:\n",
        "  count+=1\n",
        "\n",
        "print(palabras)\n",
        "print(count)"
      ],
      "metadata": {
        "id": "K7GfzOp8aPdX",
        "colab": {
          "base_uri": "https://localhost:8080/"
        },
        "outputId": "49ade83d-2936-4d1b-e988-9ad6d1774b70"
      },
      "execution_count": null,
      "outputs": [
        {
          "output_type": "stream",
          "name": "stdout",
          "text": [
            "Ingresar una frase para indicar cant. de palabras tres tristres tigres comen trigo de un maizal\n",
            "['tres', 'tristres', 'tigres', 'comen', 'trigo', 'de', 'un', 'maizal']\n",
            "8\n"
          ]
        }
      ]
    },
    {
      "cell_type": "markdown",
      "source": [
        "###Ejercicio 3\n",
        "Tenemos la pantalla del celu bloqueada. Partiendo de un PIN_SECRETO, intentaremos desbloquear la pantalla. Tenemos hasta 3 intentos. Simula el proceso con Python. En caso de acceder, lanza al usuario 'login correcto'. Sino, 'llamando al policía'."
      ],
      "metadata": {
        "id": "yCHT-1B5aOci"
      }
    },
    {
      "cell_type": "code",
      "source": [
        "a = \"MaizalTigres\"\n",
        "b = str(input(\"pon tu password \"))\n",
        "c = \"\"\n",
        "i=0\n",
        "while b != a :\n",
        "  if c == a :\n",
        "    print(\"login correcto \")\n",
        "    break\n",
        "  else:\n",
        "    c = input(\"Contraseña incorrecta volve a intentar \")\n",
        "    i+=1\n",
        "    if i == 3:\n",
        "      print(\"Pa tu casa hacker\")\n",
        "      break\n",
        "if a==b:\n",
        "  print(\"pword correct\")"
      ],
      "metadata": {
        "id": "EaGeB91tarDr"
      },
      "execution_count": null,
      "outputs": []
    },
    {
      "cell_type": "markdown",
      "source": [
        "###Ejercicio 4\n",
        "Calcula la Hipotenusa. Para ello, pide al usuario que te de el valor de los catetos. Por seacaso, comprueba que los catetos son mayores a 0. Hasta que estos datos sean validados no calcular."
      ],
      "metadata": {
        "id": "NqcvYs2parho"
      }
    },
    {
      "cell_type": "code",
      "source": [
        "a = int(input(\"escribe el cateto menor \"))\n",
        "b = int(input(\"escribe el cateto mayor \"))\n",
        "f = \"tu hipotenusa es:\"\n",
        "if a and b >= 0:\n",
        "  c = (a**2) + (b**2)\n",
        "  h = c**(1/2)\n",
        "  print(f,h)\n",
        "else:\n",
        "  print(\"error\")"
      ],
      "metadata": {
        "id": "b5LT7AXLay0F"
      },
      "execution_count": null,
      "outputs": []
    },
    {
      "cell_type": "markdown",
      "source": [
        "###Ejercicio 5\n",
        "Vamos a diseñar una calculadora que se enciende y hasta que no tecleamos 'SAL' no se apaga.\n",
        "\n",
        "Esta calculadora funciona de la siguiente manera:\n",
        "\n",
        "Recogemos los datos A y B\n",
        "Si operación es 1 calcula la raíz cuadrada de la suma de A y B\n",
        "Si operación es 2 calcula A / B. Vigilamos que B no sea 0...\n",
        "Si la operación es 3 calculamos la siguiente fórmula: ( A * B ) / 2.5\n"
      ],
      "metadata": {
        "id": "4op3Lb4ia13-"
      }
    },
    {
      "cell_type": "code",
      "source": [
        "w = \"\"\n",
        "while w != \"prendido\":\n",
        "  w = str(input(\"pone prender/seguir o apagar \"))\n",
        "  if w == \"apagar\":\n",
        "    print(\"apagando\")\n",
        "    break\n",
        "  else:\n",
        "    print(\"\")\n",
        "    a = float(input(\"escribe un numero (A)\"))\n",
        "    b = float(input(\"escribe otro numero (B)\"))\n",
        "    f = \"la raíz cuadrada de la suma de A y B es: \"\n",
        "    if b != 0:\n",
        "        c = float(input(\"pone 1 si quiere la raíz cuadrada de la suma de A y B pon 2  A / B pon 3 ( A * B ) / 2.5 = \"))\n",
        "        if c == 1:\n",
        "          e = (a+b)**(1/2)\n",
        "          print(f,e)\n",
        "        if c == 2:\n",
        "          g = (a/b)\n",
        "          print(f,g)\n",
        "        if c == 3:\n",
        "          h = (( a * b ) / 2.5)\n",
        "          print(f,h)\n",
        "    else:\n",
        "        d = float(input(\"pone 1 si quiere la raíz cuadrada de la suma de A y B pon 2  A / B = \"))\n",
        "        if d == 1:\n",
        "          l = (a+b)**(1/2)\n",
        "          print(f,l)\n",
        "        if d == 2:\n",
        "          p = (a/b)\n",
        "          print(f,p)"
      ],
      "metadata": {
        "id": "9_8eM9sVa-MB"
      },
      "execution_count": null,
      "outputs": []
    },
    {
      "cell_type": "markdown",
      "source": [
        "###Ejercicio 6\n",
        "Haz un motor de videojuegos para dos personajes (A y B). Funciona de la siguiente manera:\n",
        "\n",
        "Empieza el combate y se decide aleatoriamente quien empieza.\n",
        "Si ataca A restará su ataqueA a defensaB.\n",
        "Cambio de turno. Le toca a B. Realiza el ataque.\n",
        "Así hasta que alguno sea derrotado. (Recordar que cada personaje tiene un conteo de puntos de vida)\n"
      ],
      "metadata": {
        "id": "Bu2W99Aka-aV"
      }
    },
    {
      "cell_type": "code",
      "source": [
        "import random\n",
        "## Personajes\n",
        "defensaA = 100\n",
        "defensaB = 100\n",
        "## ataques\n",
        "ataqueA = 10\n",
        "ataqueB = 10\n",
        "\n",
        "# condiciones\n",
        "goOn = True\n",
        "\n",
        "\n",
        "while defensaA > 0 and defensaB > 0 and goOn:\n",
        "  i = random.randint(1,10)\n",
        "  goOn = bool(int(input(\"Si desea continuar escriba cualquier cosa\" \"\\n\" \"Si desea finalizar escriba 0\")))\n",
        "  if i < 5:\n",
        "    ## A es atacado por B\n",
        "    defensaA -= ataqueB\n",
        "    print(\"A ataco a B\" \"\\n\", \"Jugador A tiene \", defensaA, \"puntos restantes\" \"\\n\", \"Jugador B tiene \", defensaB, \"puntos restantes\" \"\\n\")\n",
        "  elif i > 5:\n",
        "    ## B es atacado por A\n",
        "    defensaB -= ataqueA\n",
        "    print(\"B ataco a A\" \"\\n\", \"Jugador A tiene \", defensaA, \"puntos restantes\" \"\\n\", \"Jugador B tiene \", defensaB, \"puntos restantes\" \"\\n\")\n",
        "if defensaA > defensaB:\n",
        "  print(\"Gano jugadorA\")\n",
        "else:\n",
        "  print(\"Gano jugadorB\")"
      ],
      "metadata": {
        "id": "H9dHLo2XbLTi",
        "colab": {
          "base_uri": "https://localhost:8080/"
        },
        "outputId": "4753fd60-7435-475f-dc08-8870b581d78d"
      },
      "execution_count": null,
      "outputs": [
        {
          "output_type": "stream",
          "name": "stdout",
          "text": [
            "Si desea continuar escriba cualquier cosa\n",
            "Si desea finalizar escriba 01\n",
            "A ataco a B\n",
            " Jugador A tiene  90 puntos restantes\n",
            " Jugador B tiene  100 puntos restantes\n",
            "\n",
            "Si desea continuar escriba cualquier cosa\n",
            "Si desea finalizar escriba 00\n",
            "A ataco a B\n",
            " Jugador A tiene  80 puntos restantes\n",
            " Jugador B tiene  100 puntos restantes\n",
            "\n",
            "Gano jugadorB\n"
          ]
        }
      ]
    },
    {
      "cell_type": "markdown",
      "source": [
        "##**Listas en Python**\n",
        "###¿Qué es una Lista?\n",
        "Una lista en Python es una colección ordenada de valores de datos a la que se puede acceder utilizando índices numéricos. Este tipo de datos son versátiles y pueden contener cualquier combinación de datos, como cadenas, flotantes, enteros ¡e incluso otras listas! Nos permiten organizar nuestros datos de forma útil, permitiéndonos acceder fácilmente a los elementos de uno en uno o por trozos. Además, pueden utilizarse dentro de funciones para crear programas más potentes. Dominar las listas es clave para un correcto desarrollo de aplicaciones.\n",
        "\n",
        "En general, una lista es una colección de elementos que forman un grupo unido. En detalle, las listas tienen las siguientes características:\n",
        "\n",
        "* Las listas en Python una lista se inicializa así: miLista = [valor1, valor2, ... , valorn]\n",
        "* Una lista en programación es modificable y puede cambiar a lo largo del tiempo\n",
        "* El primer elemento empieza en la posición 0. Para el primer valor se consulta así: miLista[0]\n",
        "* Funciones Básicas de Listas en Python: métodos disponibles\n",
        "###Listas Anidadas en Python\n",
        "Existe la posibilidad de colocar una lista dentro de otra lista, de hecho, se parece a una matriz. Fíjate, crearemos un elemento de lista y después colocaremos otra lista para consultar sobre ella:\n",
        "\n",
        "\n",
        "```python\n",
        "lista = [ 1, 2, [3, 4] ]\n",
        "print( lista[-1][0] )\n",
        "```\n",
        "###Tupla vs Listas en Python y Programación\n",
        "En programación muy habitualmente necesimatos de un número de variables de elementos que queremos agrupar para resolver un problema o transformar los datos. La diferencia de las listas y las tuplas principalmente se basan en la capacidad de modificación de alguno de los elementos de la colección.\n",
        "\n",
        "En primer lugar, el orden de los elementos almacenados en una lista puede modificarse, lo que no ocurre con las tuplas. En segundo lugar, mientras que las tuplas son inmutables y, por tanto, sólo pueden almacenar conjuntos estáticos de datos, las listas son dinámicas y pueden contener múltiples tipos de objetos, como números, cadenas e incluso otras colecciones como diccionarios.\n",
        "\n",
        "¿Cuando utilizar las Listas en Python?\n",
        "* Si buscas almacenar datos en tu programa donde los valores se modifican.\n",
        "* Si eliminas o añadirás alguno de los elementos.\n",
        "¿Cuando cuando utilizar Tuplas en Python?\n",
        "* Cuando los elementos de la colección son fijos y no pueden cambiar para resolver el reto en tu programa. A esta propiedad se le llama inmutabilidad.\n",
        "* Cuando buscas proteger los elementos y categorías si son muy relevantes dentro de tu aplicación\n",
        "\n",
        "No olvides ver el libro de la bibliografia de la materia para aprender mas sobre funciones de listas para poder continuar aprendiendo como manipularlas, y dicho sea de paso, será necesario contar con el libro desde este punto para realizar los ejercicios.\n"
      ],
      "metadata": {
        "id": "KI8FS2pfbLj-"
      }
    },
    {
      "cell_type": "markdown",
      "source": [
        "###Ejercicio 1\n",
        "Realiza el Ejercicio 10 de los bucles (sistema de turnos de un videojuego). Utiliza ese mismo código y define los ataque y defensa de los personajes dentro de una lista, por personaje.\n"
      ],
      "metadata": {
        "id": "ohbuIRyMcqcJ"
      }
    },
    {
      "cell_type": "code",
      "source": [
        "import random\n",
        "## Personajes\n",
        "PersonajeA = [100,25]\n",
        "PersonajeB = [100,25]\n",
        "\n",
        "# condiciones\n",
        "goOn = True\n",
        "\n",
        "\n",
        "while PersonajeA[0] > 0 and PersonajeB[0] > 0 and goOn:\n",
        "  i = random.randint(1,10)\n",
        "  goOn = bool(int(input(\"Si desea continuar escriba cualquier cosa\" \"\\n\" \"Si desea finalizar escriba 0\")))\n",
        "  if i < 5:\n",
        "    ## A es atacado por B\n",
        "    PersonajeA[0] -= PersonajeB[1]\n",
        "    print(\"A ataco a B\" \"\\n\", \"Jugador A tiene \", PersonajeA[0], \"puntos restantes\" \"\\n\", \"Jugador B tiene \", PersonajeB[0], \"puntos restantes\" \"\\n\")\n",
        "    i = random.randint(1,10)\n",
        "  elif i > 5:\n",
        "    ## B es atacado por A\n",
        "    PersonajeB[0] -= PersonajeA[1]\n",
        "    print(\"B ataco a A\" \"\\n\", \"Jugador A tiene \", PersonajeA[0], \"puntos restantes\" \"\\n\", \"Jugador B tiene \", PersonajeB[0], \"puntos restantes\" \"\\n\")\n",
        "    i = random.randint(1,10)\n",
        "if PersonajeA[0] > PersonajeB[0]:\n",
        "  print(\"Gano jugadorA\")\n",
        "else:\n",
        "  print(\"Gano jugadorB\")"
      ],
      "metadata": {
        "id": "M2AmTV5XcwRO",
        "colab": {
          "base_uri": "https://localhost:8080/"
        },
        "outputId": "0ade228b-14c0-4e73-88df-18690ca707c5"
      },
      "execution_count": null,
      "outputs": [
        {
          "output_type": "stream",
          "name": "stdout",
          "text": [
            "Si desea continuar escriba cualquier cosa\n",
            "Si desea finalizar escriba 01\n",
            "B ataco a A\n",
            " Jugador A tiene  100 puntos restantes\n",
            " Jugador B tiene  75 puntos restantes\n",
            "\n",
            "Si desea continuar escriba cualquier cosa\n",
            "Si desea finalizar escriba 01\n",
            "A ataco a B\n",
            " Jugador A tiene  75 puntos restantes\n",
            " Jugador B tiene  75 puntos restantes\n",
            "\n",
            "Si desea continuar escriba cualquier cosa\n",
            "Si desea finalizar escriba 01\n",
            "A ataco a B\n",
            " Jugador A tiene  50 puntos restantes\n",
            " Jugador B tiene  75 puntos restantes\n",
            "\n",
            "Si desea continuar escriba cualquier cosa\n",
            "Si desea finalizar escriba 00\n",
            "A ataco a B\n",
            " Jugador A tiene  25 puntos restantes\n",
            " Jugador B tiene  75 puntos restantes\n",
            "\n",
            "Gano jugadorB\n"
          ]
        }
      ]
    },
    {
      "cell_type": "markdown",
      "source": [
        "\n",
        "###Ejercicio 2\n",
        "Pedir la puntuación media de las personas para cada asignatura de un curso a partir de un número de personas. Deberás iniciar los cursos para después añadir el número de alumnos y pedir las puntuaciones media. Ejemplo del programa resultado:\n",
        "\n",
        "Insertar la lista de los nombres de las asignaturas del instituto BigBayData.com\n",
        "\n",
        "El usuario introduce: Python,SQL,Hadoop,Js,Html,Css,Swift\n",
        "\n",
        "Genial. Ahora introduce las puntuaciones uno por uno en Python:\n",
        "\n",
        "Introducimos las puntuaciones de los alumnos por cada alumno para cada curso.\n",
        "\n",
        "Resultado de las evaluaciones este año:\n",
        "\n",
        "[Python, 12 alumnos. Nota media: 7.6, Suspensos: 2]\n",
        "\n",
        "[SQL, 12 alumnos. Nota media: 6.9, Suspensos: 1]"
      ],
      "metadata": {
        "id": "AifjBiHPcwgT"
      }
    },
    {
      "cell_type": "code",
      "source": [
        "a = []\n",
        "print(\"Pone la lista de los nombres de las asignaturas del instituto BigBayData.com pon fin cuando ya no tengas mas que agregar\")\n",
        "b = input(\"pon las asignaturas: \")\n",
        "c = input(\"Agregar más asignaturas pon si o no : \")\n",
        "lista = [b]\n",
        "while c == \"si\":\n",
        "    d = input(\"Pon la siguiente asignatura: \")\n",
        "    a.append(d)\n",
        "    c = input(\"Agregar más asignaturas pon si o no : \")\n",
        "\n",
        "for b in lista:\n",
        "    print (\"\")\n",
        "    d = int(input(f\"Pon el número de alumnos para {b}: \"))\n",
        "    e = [float(input(f\"Pon la puntuación del alumno {i + 1} para {b}: \")) for i in range(d)]\n",
        "\n",
        "    f = sum(e) / d\n",
        "    g = sum(1 for punt in e if punt >= 6)\n",
        "\n",
        "    curso_actual = [b, d, f, g]\n",
        "    a.append(curso_actual)\n",
        "print(\"\")\n",
        "print(\"Resultado de las evaluaciones este año:\")\n",
        "for curso in a:\n",
        "    print(f\"{curso[0]}: {curso[1]} alumnos, Nota media: {curso[2]}, Desaprobados: {curso[3]}\")"
      ],
      "metadata": {
        "id": "H0scBzrvc2s1"
      },
      "execution_count": null,
      "outputs": []
    },
    {
      "cell_type": "markdown",
      "source": [
        "###Ejercicio 3\n",
        "Imagina un sistema de nombres donde queremos identificar el nombre más común. Para ello primero pide al usuario que inserte nombres. Utiliza la estructura do-while.\n",
        "\n",
        "Introduce los nombres... (-1 para terminar)\n",
        "\n",
        "carmen,julia,juan,carmen,carmen,julia\n",
        "carmen: 3,julia: 2,juan: 1\n",
        "\n"
      ],
      "metadata": {
        "id": "h4evQIqRcwzT"
      }
    },
    {
      "cell_type": "code",
      "source": [
        "a = []\n",
        "\n",
        "b = input(\"Escribe un nombre pon listo cuando termines: \")\n",
        "while b != \"listo\":\n",
        "    a.append(b)\n",
        "    b = input(\"Escribe un nombre pon listo cuando termines: \")\n",
        "\n",
        "c = max(set(a), key = a.count)\n",
        "d = a.count(c)\n",
        "\n",
        "print(f\"El nombre más común es '{c}' con una frecuencia de {d} veces.\")"
      ],
      "metadata": {
        "id": "_ZHoRtY8dEKu"
      },
      "execution_count": null,
      "outputs": []
    },
    {
      "cell_type": "markdown",
      "source": [
        "###Ejercicio 4\n",
        "Utiliza el ejercicio anterior y modifícalo para, una vez se añaden los usuarios, se eliminen los duplicados.\n"
      ],
      "metadata": {
        "id": "zATK3b5cdEZk"
      }
    },
    {
      "cell_type": "code",
      "source": [
        "a = []\n",
        "\n",
        "b = input(\"Escribe un nombre pon listo cuando termines: \")\n",
        "while b != \"listo\":\n",
        "    a.append(b)\n",
        "    b = input(\"Escribe un nombre pon listo cuando termines: \")\n",
        "\n",
        "a = list(set(a))\n",
        "\n",
        "c = max(set(a), key = a.count)\n",
        "d = a.count(c)\n",
        "\n",
        "print(\"\")\n",
        "\n",
        "print(\"Resultadom:\")\n",
        "for nombre in set(a):\n",
        "    print(f\"{nombre}: {a.count(nombre)} veces\")"
      ],
      "metadata": {
        "id": "sHvDQyj2dHpk"
      },
      "execution_count": null,
      "outputs": []
    },
    {
      "cell_type": "markdown",
      "source": [
        "###Ejercicio 5\n",
        "Calcular la tabla de multiplicar de los 20 primeros números dado un número. La lista, según su posición, almacenará el resultado de la multiplicación.\n",
        "\n",
        "\n"
      ],
      "metadata": {
        "id": "6o2YqmI5dH34"
      }
    },
    {
      "cell_type": "code",
      "source": [
        "a = int(input(\"Introduce un número: \"))\n",
        "\n",
        "b = []\n",
        "\n",
        "c = 1\n",
        "for i in range(1, 21):\n",
        "    c = a * (i)\n",
        "    b.append(c)\n",
        "\n",
        "print(\"Resultados de la multiplicación de los primeros 20 números con el número dado:\")\n",
        "for i, b in enumerate(b, start=1):\n",
        "    print(f\"Posición {i}: {b}\")"
      ],
      "metadata": {
        "id": "88qxyi90dPes"
      },
      "execution_count": null,
      "outputs": []
    },
    {
      "cell_type": "markdown",
      "source": [
        "###Ejercicio 6\n",
        "Haz un programa que inicialice una lista con los primeros 10 números primos. Después, ordenalos de mayor a menor.\n",
        "\n"
      ],
      "metadata": {
        "id": "zXvt_C_3dPtB"
      }
    },
    {
      "cell_type": "code",
      "source": [
        "def es_primo(a):\n",
        "    if a <= 1:\n",
        "        return False\n",
        "    b = 2\n",
        "    while b < a:\n",
        "        if a % b == 0:\n",
        "            break\n",
        "        b += 1\n",
        "    return b == a\n",
        "\n",
        "c = []\n",
        "d = 2\n",
        "while len(c) < 10:\n",
        "    if es_primo(d):\n",
        "        c.append(d)\n",
        "    d += 1\n",
        "\n",
        "print(\"Los primeros 10 números primos, ordenados de mayor a menor:\")\n",
        "print(c)"
      ],
      "metadata": {
        "id": "ntsrfBVidSGF"
      },
      "execution_count": null,
      "outputs": []
    },
    {
      "cell_type": "markdown",
      "source": [
        "Ejercicio 7\n",
        "Simula una cesta de la compra. Después, una vez tengas la lista de la compra, elimina el último elemento. Después, invierte los elementos de la lista y muestra qué queda de resultado.\n",
        "\n",
        "Pista: Utiliza la función pop()"
      ],
      "metadata": {
        "id": "dXJgynuNdSaJ"
      }
    },
    {
      "cell_type": "code",
      "source": [
        "a = input(\"Ecribe tu lista de compras separados por comas: \").split(\",\")\n",
        "b = a.pop()\n",
        "a.reverse()\n",
        "print(\"Asi quedo tu lista de compras:\")\n",
        "print(a)"
      ],
      "metadata": {
        "id": "aAsU6L20dU5u"
      },
      "execution_count": null,
      "outputs": []
    },
    {
      "cell_type": "markdown",
      "source": [
        "Ejercicio 8\n",
        "Añade las estadísticas de los primeros 10 pokemon en nuestra pokedex. Fíjate qué estadísticas quieres para todos los pokemon. Aquí algunas sugerencias: nombre, ataque, hp, defensa, velocidad, at_Esp, def_Esp\n",
        "\n",
        "Después, utiliza la lista como una pokedex para consultarlo."
      ],
      "metadata": {
        "id": "fuD1ZJsidVSt"
      }
    },
    {
      "cell_type": "code",
      "source": [
        "a = [\n",
        "    {\"nombre\": \"Bulbasaur\", \"ataque\": 49, \"hp\": 45, \"defensa\": 49, \"velocidad\": 45, \"at_Esp\": 65, \"def_Esp\": 65},\n",
        "    {\"nombre\": \"Pikachu\", \"ataque\": 62, \"hp\": 60, \"defensa\": 63, \"velocidad\": 60, \"at_Esp\": 80, \"def_Esp\": 80},\n",
        "    {\"nombre\": \"Eevee\", \"ataque\": 82, \"hp\": 80, \"defensa\": 83, \"velocidad\": 80, \"at_Esp\": 100, \"def_Esp\": 100},\n",
        "    {\"nombre\": \"Charmander\", \"ataque\": 52, \"hp\": 39, \"defensa\": 43, \"velocidad\": 65, \"at_Esp\": 60, \"def_Esp\": 50},\n",
        "    {\"nombre\": \"Rattata\", \"ataque\": 64, \"hp\": 58, \"defensa\": 58, \"velocidad\": 80, \"at_Esp\": 80, \"def_Esp\": 65},\n",
        "    {\"nombre\": \"Charizard\", \"ataque\": 84, \"hp\": 78, \"defensa\": 78, \"velocidad\": 100, \"at_Esp\": 109, \"def_Esp\": 85},\n",
        "    {\"nombre\": \"Squirtle\", \"ataque\": 48, \"hp\": 44, \"defensa\": 65, \"velocidad\": 43, \"at_Esp\": 50, \"def_Esp\": 64},\n",
        "    {\"nombre\": \"Wartortle\", \"ataque\": 63, \"hp\": 59, \"defensa\": 80, \"velocidad\": 58, \"at_Esp\": 65, \"def_Esp\": 80},\n",
        "    {\"nombre\": \"Blastoise\", \"ataque\": 83, \"hp\": 79, \"defensa\": 100, \"velocidad\": 78, \"at_Esp\": 85, \"def_Esp\": 105},\n",
        "    {\"nombre\": \"Caterpie\", \"ataque\": 30, \"hp\": 45, \"defensa\": 35, \"velocidad\": 45, \"at_Esp\": 20, \"def_Esp\": 20}\n",
        "]\n",
        "\n",
        "# Consultar las estadísticas de un Pokémon en la Pokédex\n",
        "b = input(\"Introduce el nombre de Bulbasaur, Ivysaur, : \")\n",
        "for c in a:\n",
        "    if c[\"nombre\"].lower() == b.lower():\n",
        "        print(\"Estadísticas de\", c[\"nombre\"] + \":\")\n",
        "        print(\"Ataque:\", c[\"ataque\"])\n",
        "        print(\"HP:\", c[\"hp\"])\n",
        "        print(\"Defensa:\", c[\"defensa\"])\n",
        "        print(\"Velocidad:\", c[\"velocidad\"])\n",
        "        print(\"Ataque Especial:\", c[\"at_Esp\"])\n",
        "        print(\"Defensa Especial:\", c[\"def_Esp\"])\n",
        "        break\n",
        "else:\n",
        "    print(\"Pokémon no encontrado en la Pokédex.\")\n"
      ],
      "metadata": {
        "id": "mJJ8klWEdYOJ"
      },
      "execution_count": null,
      "outputs": []
    },
    {
      "cell_type": "markdown",
      "source": [
        "###Ejercicio 9\n",
        "Imagina construir un sistema de planning de vuelos de un aeropuerto cercano. Crea una planificación donde dentro contiene, por día de la semana, horario, compañia, duracion_estimada, tipo_avion. Utiliza una lista dentro de otra lista.\n",
        "\n",
        "PD: Después de llenar los datos necesitarás ofrecer al usuario ver la información.\n"
      ],
      "metadata": {
        "id": "H-Pwtr4ndYce"
      }
    },
    {
      "cell_type": "code",
      "source": [
        "planificacion_vuelos = [\n",
        "    # Lunes\n",
        "    [\n",
        "        {\"horario\": \"08:00\", \"compania\": \"Aerolineas Argentinas\", \"duracion_estimada\": \"2 horas\", \"tipo_avion\": \"Boeing 737\"},\n",
        "        {\"horario\": \"12:00\", \"compania\": \"LATAM\", \"duracion_estimada\": \"3 horas\", \"tipo_avion\": \"Airbus A320\"},\n",
        "        {\"horario\": \"16:00\", \"compania\": \"American Airlines\", \"duracion_estimada\": \"4 horas\", \"tipo_avion\": \"Boeing 777\"}\n",
        "    ],\n",
        "    # Martes\n",
        "    [\n",
        "        {\"horario\": \"09:00\", \"compania\": \"British Airways\", \"duracion_estimada\": \"2.5 horas\", \"tipo_avion\": \"Airbus A330\"},\n",
        "        {\"horario\": \"13:00\", \"compania\": \"Qatar Airways\", \"duracion_estimada\": \"3.5 horas\", \"tipo_avion\": \"Boeing 787\"},\n",
        "        {\"horario\": \"17:00\", \"compania\": \"Emirates\", \"duracion_estimada\": \"4.5 horas\", \"tipo_avion\": \"Airbus A380\"}\n",
        "    ],\n",
        "    # Miércoles\n",
        "    [\n",
        "        {\"horario\": \"10:00\", \"compania\": \"Delta Airlines\", \"duracion_estimada\": \"2.2 horas\", \"tipo_avion\": \"Boeing 737\"},\n",
        "        {\"horario\": \"14:00\", \"compania\": \"Air France\", \"duracion_estimada\": \"3.2 horas\", \"tipo_avion\": \"Airbus A320\"},\n",
        "        {\"horario\": \"18:00\", \"compania\": \"Lufthansa\", \"duracion_estimada\": \"4.2 horas\", \"tipo_avion\": \"Boeing 747\"}\n",
        "    ],\n",
        "    # Jueves\n",
        "    [\n",
        "        {\"horario\": \"11:00\", \"compania\": \"KLM\", \"duracion_estimada\": \"2.7 horas\", \"tipo_avion\": \"Boeing 767\"},\n",
        "        {\"horario\": \"15:00\", \"compania\": \"Singapore Airlines\", \"duracion_estimada\": \"3.7 horas\", \"tipo_avion\": \"Airbus A350\"},\n",
        "        {\"horario\": \"19:00\", \"compania\": \"Cathay Pacific\", \"duracion_estimada\": \"4.7 horas\", \"tipo_avion\": \"Boeing 777\"}\n",
        "    ],\n",
        "    # Viernes\n",
        "    [\n",
        "        {\"horario\": \"07:00\", \"compania\": \"Iberia\", \"duracion_estimada\": \"2.8 horas\", \"tipo_avion\": \"Airbus A340\"},\n",
        "        {\"horario\": \"11:30\", \"compania\": \"Turkish Airlines\", \"duracion_estimada\": \"3.8 horas\", \"tipo_avion\": \"Boeing 737 MAX\"},\n",
        "        {\"horario\": \"15:30\", \"compania\": \"Air Canada\", \"duracion_estimada\": \"4.8 horas\", \"tipo_avion\": \"Airbus A321\"}\n",
        "    ],\n",
        "    # Sábado\n",
        "    [\n",
        "        {\"horario\": \"08:30\", \"compania\": \"Alitalia\", \"duracion_estimada\": \"2.9 horas\", \"tipo_avion\": \"Boeing 787\"},\n",
        "        {\"horario\": \"12:30\", \"compania\": \"Swiss International Air Lines\", \"duracion_estimada\": \"3.9 horas\", \"tipo_avion\": \"Airbus A319\"},\n",
        "        {\"horario\": \"16:30\", \"compania\": \"Avianca\", \"duracion_estimada\": \"4.9 horas\", \"tipo_avion\": \"Boeing 777\"}\n",
        "    ],\n",
        "    # Domingo\n",
        "    [\n",
        "        {\"horario\": \"09:30\", \"compania\": \"Virgin Atlantic\", \"duracion_estimada\": \"3 horas\", \"tipo_avion\": \"Airbus A380\"},\n",
        "        {\"horario\": \"13:30\", \"compania\": \"Finnair\", \"duracion_estimada\": \"4 horas\", \"tipo_avion\": \"Airbus A350\"},\n",
        "        {\"horario\": \"17:30\", \"compania\": \"Copa Airlines\", \"duracion_estimada\": \"5 horas\", \"tipo_avion\": \"Boeing 737\"}\n",
        "    ]\n",
        "]\n",
        "\n",
        "def mostrar_vuelos_por_dia(dia):\n",
        "    if dia < 1 or dia > 7:\n",
        "        print(\"El día ingresado es inválido. Por favor ingrese un número entre 1 y 7.\")\n",
        "    else:\n",
        "        print(\"Vuelos del día\", dia)\n",
        "        for vuelo in planificacion_vuelos[dia - 1]:\n",
        "            print(\"Horario:\", vuelo[\"horario\"])\n",
        "            print(\"Compañía:\", vuelo[\"compania\"])\n",
        "            print(\"Duración estimada:\", vuelo[\"duracion_estimada\"])\n",
        "            print(\"Tipo de avión:\", vuelo[\"tipo_avion\"])\n",
        "            print()\n",
        "\n",
        "# Ejemplo de uso\n",
        "mostrar_vuelos_por_dia(1)  # Mostrar vuelos del lunes"
      ],
      "metadata": {
        "id": "gDA1toB8dcqr"
      },
      "execution_count": null,
      "outputs": []
    },
    {
      "cell_type": "markdown",
      "source": [
        "###Ejercicio 10\n",
        "Haz un sistema de ordenamiento de ayudas para tu comunidad. La idea es que insertes todos los emails que quieras para, aleatoriamente, ofrecer N ayudas. El objetivo es tener un sistema justo de ayudas para repartir entre la ciudadanía que se postula. Una vez lo tengas, desarrolla un sistema de envío automático por correo."
      ],
      "metadata": {
        "id": "ysUskJRudc6T"
      }
    },
    {
      "cell_type": "code",
      "source": [
        "import random\n",
        "a = input(\"Introduce los correos electrónicos de los solicitantes separados por comas: \")\n",
        "b = a.split(\",\")\n",
        "\n",
        "def seleccionar_ayudas(b, n):\n",
        "    return random.sample(b, n)\n",
        "\n",
        "correos_seleccionados = seleccionar_ayudas(b, 3)\n",
        "print(\"Correos seleccionados para ofrecer ayuda:\", correos_seleccionados)"
      ],
      "metadata": {
        "id": "nP3O5lpidp2a"
      },
      "execution_count": null,
      "outputs": []
    },
    {
      "cell_type": "markdown",
      "source": [
        "##FAQs sobre listas\n",
        "**¿Qué son las listas Python?**\n",
        "Son colecciones modificables, muy útiles para agrupar elementos que cambian a lo largo del tiempo.\n",
        "\n",
        "**¿Cómo hacer una lista en Python?**\n",
        "miNuevaLista = [ ‘aaa’, 1, 3.2, False ] #Corchetes\n",
        "\n",
        "**¿Qué es y para qué sirve una lista en Python?**\n",
        "Es como un vagón de trenes para que utilices el tren como almacén de datos en el programa.\n",
        "\n",
        "**¿Cómo crear una lista del 1 al 10 en Python?**\n",
        "x = list(range(0,10))\n",
        "\n",
        "**¿Cómo se crea una lista vacía en Python?**\n",
        "miNuevaListaVacia = [ ] #Corchetes"
      ],
      "metadata": {
        "id": "Vi4JH_VHdqKt"
      }
    }
  ]
}