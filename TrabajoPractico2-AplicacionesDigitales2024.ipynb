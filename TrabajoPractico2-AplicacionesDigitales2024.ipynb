{
  "nbformat": 4,
  "nbformat_minor": 0,
  "metadata": {
    "colab": {
      "provenance": [],
      "toc_visible": true
    },
    "kernelspec": {
      "name": "python3",
      "display_name": "Python 3"
    },
    "language_info": {
      "name": "python"
    }
  },
  "cells": [
    {
      "cell_type": "markdown",
      "source": [
        "# **Python**: Avanzando en conocimientos\n",
        "\n",
        "Durante el transcurso de Programacion en 4to año aprendimos multiples recursos para utilizar en python, e inclusive utilizamos programas ya escritos para realizar nuestras tareas, pero es hora de que nosotros seamos los que brindemos soluciones, por lo tanto, esta tanda de ejercicios se basa en aumentar sus conocimientos en python al punto de que les genere confianza de poder desarrollar sus propias soluciones."
      ],
      "metadata": {
        "id": "LqFcHoLF6mDF"
      }
    },
    {
      "cell_type": "markdown",
      "source": [
        "# Ejercicios de Listas y Tuplas avanzado"
      ],
      "metadata": {
        "id": "-adDePqE-3Aa"
      }
    },
    {
      "cell_type": "markdown",
      "source": [
        "Ejercicio 1\n",
        "Escribir un programa que almacene las asignaturas de un curso (por ejemplo Matemáticas, Física, Química, Historia y Lengua) en una lista y la muestre por pantalla.\n"
      ],
      "metadata": {
        "id": "S9MZ2lbn7kyS"
      }
    },
    {
      "cell_type": "code",
      "source": [
        "Materias = []\n",
        "Materia = \"\"\n",
        "while Materia != \"SAL\":\n",
        "  Materia = str(input(\"Cargar la materia correspondiente o escribir SAL para finalizar: \"))\n",
        "  Materias.append(Materia)\n",
        "  if \"SAL\" in Materias:\n",
        "    Materias.remove(\"SAL\")\n",
        "  else:\n",
        "    continue\n",
        "print(Materias)"
      ],
      "metadata": {
        "id": "xwCNCa2j7qur",
        "colab": {
          "base_uri": "https://localhost:8080/"
        },
        "outputId": "8e8a06e3-f4b5-49f5-9634-948181a188bf"
      },
      "execution_count": null,
      "outputs": [
        {
          "output_type": "stream",
          "name": "stdout",
          "text": [
            "Cargar la materia correspondiente o escribir SAL para finalizar: Python\n",
            "Cargar la materia correspondiente o escribir SAL para finalizar: SQL\n",
            "Cargar la materia correspondiente o escribir SAL para finalizar: CyP\n",
            "Cargar la materia correspondiente o escribir SAL para finalizar: FPVT\n",
            "Cargar la materia correspondiente o escribir SAL para finalizar: Ingles\n",
            "Cargar la materia correspondiente o escribir SAL para finalizar: SAL\n",
            "['Python', 'SQL', 'CyP', 'FPVT', 'Ingles']\n"
          ]
        }
      ]
    },
    {
      "cell_type": "markdown",
      "source": [
        "Ejercicio 2\n",
        "Escribir un programa que almacene las asignaturas de un curso (por ejemplo Matemáticas, Física, Química, Historia y Lengua) en una lista y la muestre por pantalla el mensaje Yo estudio <asignatura>, donde <asignatura> es cada una de las asignaturas de la lista.\n"
      ],
      "metadata": {
        "id": "IgZPQ6wu7rbM"
      }
    },
    {
      "cell_type": "code",
      "source": [
        "Materias = []\n",
        "Materia = \"\"\n",
        "while Materia != \"SAL\":\n",
        "  Materia = str(input(\"Cargar la materia correspondiente o escribir SAL para finalizar: \"))\n",
        "  Materias.append(Materia)\n",
        "  if \"SAL\" in Materias:\n",
        "    Materias.remove(\"SAL\")\n",
        "  else:\n",
        "    continue\n",
        "for i in Materias:\n",
        "  print(f\"Yo estudio {i}\")"
      ],
      "metadata": {
        "id": "tdmtakjY7vFL",
        "colab": {
          "base_uri": "https://localhost:8080/"
        },
        "outputId": "50c45cb4-8072-419a-b922-25274647ad97"
      },
      "execution_count": null,
      "outputs": [
        {
          "output_type": "stream",
          "name": "stdout",
          "text": [
            "Cargar la materia correspondiente o escribir SAL para finalizar: Python\n",
            "Cargar la materia correspondiente o escribir SAL para finalizar: SQL\n",
            "Cargar la materia correspondiente o escribir SAL para finalizar: SAL\n",
            "Yo estudio Python\n",
            "Yo estudio SQL\n"
          ]
        }
      ]
    },
    {
      "cell_type": "markdown",
      "source": [
        "Ejercicio 3\n",
        "Escribir un programa que almacene las asignaturas de un curso (por ejemplo Matemáticas, Física, Química, Historia y Lengua) en una lista, pregunte al usuario la nota que ha sacado en cada asignatura, y después las muestre por pantalla con el mensaje En <asignatura> has sacado <nota> donde <asignatura> es cada una des las asignaturas de la lista y <nota> cada una de las correspondientes notas introducidas por el usuario.\n"
      ],
      "metadata": {
        "id": "xn_m3agN7vbK"
      }
    },
    {
      "cell_type": "code",
      "source": [
        "Materias = []\n",
        "Materia = \"\"\n",
        "Notas = []\n",
        "Nota = \"\"\n",
        "while Materia != \"SAL\":\n",
        "  Materia = str(input(\"Cargar la materia correspondiente o escribir SAL para finalizar: \"))\n",
        "  Materias.append(Materia)\n",
        "  if \"SAL\" in Materias:\n",
        "    Materias.remove(\"SAL\")\n",
        "  else:\n",
        "    Nota = int(input(\"Cargar la nota de la materia correspondiente \"))\n",
        "    Notas.append(Nota)\n",
        "count = 0\n",
        "for i in Materias:\n",
        "  print(f\"En {i} has sacado {Notas[count]}\")\n",
        "  count += 1"
      ],
      "metadata": {
        "id": "JuV1y_3d7zGG",
        "colab": {
          "base_uri": "https://localhost:8080/"
        },
        "outputId": "51d67749-1595-4ad0-b859-1ff1a96c1098"
      },
      "execution_count": null,
      "outputs": [
        {
          "output_type": "stream",
          "name": "stdout",
          "text": [
            "Cargar la materia correspondiente o escribir SAL para finalizar: Python\n",
            "Cargar la nota de la materia correspondiente 9\n",
            "Cargar la materia correspondiente o escribir SAL para finalizar: SQL\n",
            "Cargar la nota de la materia correspondiente 0\n",
            "Cargar la materia correspondiente o escribir SAL para finalizar: CyP\n",
            "Cargar la nota de la materia correspondiente 10\n",
            "Cargar la materia correspondiente o escribir SAL para finalizar: Ingles\n",
            "Cargar la nota de la materia correspondiente 1\n",
            "Cargar la materia correspondiente o escribir SAL para finalizar: SAL\n",
            "EnPython has sacado 9\n",
            "EnSQL has sacado 0\n",
            "EnCyP has sacado 10\n",
            "EnIngles has sacado 1\n"
          ]
        }
      ]
    },
    {
      "cell_type": "markdown",
      "source": [
        "Ejercicio 4\n",
        "Escribir un programa que pregunte al usuario los números ganadores de la lotería primitiva, los almacene en una lista y los muestre por pantalla ordenados de menor a mayor.\n"
      ],
      "metadata": {
        "id": "QO0bLghM7zZM"
      }
    },
    {
      "cell_type": "code",
      "source": [
        "Numeros = []\n",
        "Num = \"\"\n",
        "\n",
        "while Num != \"SAL\":\n",
        "  Num = str(input(\"Cargar los numeros de la loteria o escriba SAL para finalizar \"))\n",
        "  Numeros.append(Num)\n",
        "  if \"SAL\" in Numeros:\n",
        "    Numeros.remove(\"SAL\")\n",
        "  else:\n",
        "    continue\n",
        "Numeros.sort()\n",
        "print(Numeros)"
      ],
      "metadata": {
        "id": "yzf5-TaH73GX",
        "colab": {
          "base_uri": "https://localhost:8080/"
        },
        "outputId": "8707ebd2-0617-485b-e545-8c72f8736844"
      },
      "execution_count": null,
      "outputs": [
        {
          "output_type": "stream",
          "name": "stdout",
          "text": [
            "Cargar los numeros de la loteria o escriba SAL para finalizar 9984\n",
            "Cargar los numeros de la loteria o escriba SAL para finalizar 9934\n",
            "Cargar los numeros de la loteria o escriba SAL para finalizar 1234\n",
            "Cargar los numeros de la loteria o escriba SAL para finalizar 5555\n",
            "Cargar los numeros de la loteria o escriba SAL para finalizar SAL\n",
            "['1234', '5555', '9934', '9984']\n"
          ]
        }
      ]
    },
    {
      "cell_type": "markdown",
      "source": [
        "Ejercicio 5\n",
        "Escribir un programa que almacene en una lista los números del 1 al 10 y los muestre por pantalla en orden inverso separados por comas.\n"
      ],
      "metadata": {
        "id": "zO8dASUm73dh"
      }
    },
    {
      "cell_type": "code",
      "source": [
        "numeros = []\n",
        "for i in range(1,11):\n",
        "  numeros.append(i)\n",
        "print(sorted(numeros, reverse = True))\n"
      ],
      "metadata": {
        "id": "DB0QmKjY76oM",
        "colab": {
          "base_uri": "https://localhost:8080/"
        },
        "outputId": "9946bb10-bd28-4283-f017-10c3f7af973e"
      },
      "execution_count": null,
      "outputs": [
        {
          "output_type": "stream",
          "name": "stdout",
          "text": [
            "[10, 9, 8, 7, 6, 5, 4, 3, 2, 1]\n"
          ]
        }
      ]
    },
    {
      "cell_type": "markdown",
      "source": [
        "Ejercicio 6\n",
        "Escribir un programa que almacene las asignaturas de un curso (por ejemplo Matemáticas, Física, Química, Historia y Lengua) en una lista, pregunte al usuario la nota que ha sacado en cada asignatura y elimine de la lista las asignaturas aprobadas. Al final el programa debe mostrar por pantalla las asignaturas que el usuario tiene que repetir.\n"
      ],
      "metadata": {
        "id": "ZcEl0SrG76-v"
      }
    },
    {
      "cell_type": "code",
      "source": [
        "Materias = []\n",
        "Materia = \"\"\n",
        "Notas = []\n",
        "Nota = \"\"\n",
        "while Materia != \"SAL\":\n",
        "  Materia = str(input(\"Cargar la materia correspondiente o escribir SAL para finalizar: \"))\n",
        "  Materias.append(Materia)\n",
        "  if \"SAL\" in Materias:\n",
        "    Materias.remove(\"SAL\")\n",
        "  else:\n",
        "    Nota = int(input(\"Cargar la nota de la materia correspondiente \"))\n",
        "    Notas.append(Nota)\n",
        "count = 0\n",
        "for i in Materias:\n",
        "  if Notas[count]<6:\n",
        "    Materias.remove(i)\n",
        "  count += 1\n",
        "print(f\"Usted debe las siguientes materias {Materias}\")"
      ],
      "metadata": {
        "id": "PakJF2_X79YD",
        "colab": {
          "base_uri": "https://localhost:8080/"
        },
        "outputId": "28776a2e-2f2f-4d10-cecc-303cf0956a10"
      },
      "execution_count": null,
      "outputs": [
        {
          "output_type": "stream",
          "name": "stdout",
          "text": [
            "Cargar la materia correspondiente o escribir SAL para finalizar: Python\n",
            "Cargar la nota de la materia correspondiente 1\n",
            "Cargar la materia correspondiente o escribir SAL para finalizar: SQL\n",
            "Cargar la nota de la materia correspondiente 4\n",
            "Cargar la materia correspondiente o escribir SAL para finalizar: CyP\n",
            "Cargar la nota de la materia correspondiente 10\n",
            "Cargar la materia correspondiente o escribir SAL para finalizar: Ingles\n",
            "Cargar la nota de la materia correspondiente 5\n",
            "Cargar la materia correspondiente o escribir SAL para finalizar: SAL\n",
            "Usted debe las siguientes materias ['Python', 'SQL', 'Ingles']\n"
          ]
        }
      ]
    },
    {
      "cell_type": "markdown",
      "source": [
        "Ejercicio 7\n",
        "Escribir un programa que almacene el abecedario en una lista, elimine de la lista las letras que ocupen posiciones múltiplos de 3, y muestre por pantalla la lista resultante.\n"
      ],
      "metadata": {
        "id": "gYl8cKS079l6"
      }
    },
    {
      "cell_type": "code",
      "source": [
        "import string\n",
        "\n",
        "abc = list(string.ascii_lowercase)\n",
        "for i in abc:\n",
        "  if abc.index(i)!=0 and abc.index(i)%3 == 0:\n",
        "    abc.remove(i)\n",
        "for i, letra in enumerate(abc):\n",
        "  print(i,letra)"
      ],
      "metadata": {
        "id": "xS8_--Bm8Bnp",
        "colab": {
          "base_uri": "https://localhost:8080/"
        },
        "outputId": "69feeac0-1a24-47d7-8ecb-957325e31760"
      },
      "execution_count": null,
      "outputs": [
        {
          "output_type": "stream",
          "name": "stdout",
          "text": [
            "0 a\n",
            "1 b\n",
            "2 c\n",
            "3 e\n",
            "4 f\n",
            "5 g\n",
            "6 i\n",
            "7 j\n",
            "8 k\n",
            "9 m\n",
            "10 n\n",
            "11 o\n",
            "12 q\n",
            "13 r\n",
            "14 s\n",
            "15 u\n",
            "16 v\n",
            "17 w\n",
            "18 y\n",
            "19 z\n"
          ]
        }
      ]
    },
    {
      "cell_type": "markdown",
      "source": [
        "Ejercicio 8\n",
        "Escribir un programa que pida al usuario una palabra y muestre por pantalla si es un palíndromo.\n"
      ],
      "metadata": {
        "id": "vL4zu31G8AcC"
      }
    },
    {
      "cell_type": "code",
      "source": [
        "palabra = str(input(\"Dame una palabra o una frase \"))\n",
        "letras = palabra.lower().replace(' ', '')\n",
        "alreves = ''.join(reversed(palabra))\n",
        "print(alreves,palabra)\n",
        "if palabra == alreves:\n",
        "  print(\"Es palindromo\")\n",
        "else:\n",
        "  print(\"No es palindromo\")"
      ],
      "metadata": {
        "id": "OWwgbvCJ8IMD",
        "colab": {
          "base_uri": "https://localhost:8080/"
        },
        "outputId": "2728eda2-3c40-4e06-89fc-09dfd43cc688"
      },
      "execution_count": null,
      "outputs": [
        {
          "output_type": "stream",
          "name": "stdout",
          "text": [
            "Dame una palabra o una frase PalAbRa\n",
            "aRbAlaP PalAbRa\n",
            "No es palindromo\n"
          ]
        }
      ]
    },
    {
      "cell_type": "markdown",
      "source": [
        "Ejercicio 9\n",
        "Escribir un programa que pida al usuario una palabra y muestre por pantalla el número de veces que contiene cada vocal.\n",
        "\n",
        "\n"
      ],
      "metadata": {
        "id": "5_myEIVh8Iej"
      }
    },
    {
      "cell_type": "code",
      "source": [
        "palabra = str(input(\"Dame una palabra \"))\n",
        "letras = palabra.split()\n",
        "count = 0\n",
        "for i in palabra:\n",
        "  if \"a\" == i or \"e\" == i or \"i\" == i or \"o\" == i or \"u\" == i:\n",
        "    count+=1\n",
        "  else:\n",
        "    continue\n",
        "print(count)\n"
      ],
      "metadata": {
        "id": "czJgZ6zf8LsX",
        "colab": {
          "base_uri": "https://localhost:8080/"
        },
        "outputId": "329610b6-3d5f-42d0-ebce-062e57db812d"
      },
      "execution_count": null,
      "outputs": [
        {
          "output_type": "stream",
          "name": "stdout",
          "text": [
            "Dame una palabra palabras\n",
            "3\n"
          ]
        }
      ]
    },
    {
      "cell_type": "markdown",
      "source": [
        "Ejercicio 10\n",
        "Escribir un programa que almacene en una lista los siguientes precios, 50, 75, 46, 22, 80, 65, 8, y muestre por pantalla el menor y el mayor de los precios.\n",
        "\n",
        "\n"
      ],
      "metadata": {
        "id": "F4pIOpYi8PwP"
      }
    },
    {
      "cell_type": "code",
      "source": [
        "lista = [50, 75, 46, 22, 80, 65, 8]\n",
        "max = max(lista)\n",
        "min = min(lista)\n",
        "print(f\"el mayor de los numeros es {max} y el menor es {min}\")"
      ],
      "metadata": {
        "id": "xm1PyJfe8Rhj",
        "colab": {
          "base_uri": "https://localhost:8080/"
        },
        "outputId": "f58bb53d-05c8-4364-a85d-66cf3f899102"
      },
      "execution_count": null,
      "outputs": [
        {
          "output_type": "stream",
          "name": "stdout",
          "text": [
            "el mayor de los numeros es 80 y el menor es 8\n"
          ]
        }
      ]
    },
    {
      "cell_type": "markdown",
      "source": [
        "Ejercicio 11\n",
        "Escribir un programa que almacene los vectores (1,2,3) y (-1,0,2) en dos listas y muestre por pantalla su producto escalar.\n",
        "\n"
      ],
      "metadata": {
        "id": "G75L-Ja-8Rxw"
      }
    },
    {
      "cell_type": "code",
      "source": [
        "import numpy as np\n",
        "vec_1 = [1,2,3]\n",
        "vec_2 = [-1,0,2]\n",
        "print(np.dot(vec_1,vec_2))"
      ],
      "metadata": {
        "id": "4K_ykixc8UA_",
        "colab": {
          "base_uri": "https://localhost:8080/"
        },
        "outputId": "827362cb-b45f-41a7-ce2d-e10176266cdd"
      },
      "execution_count": null,
      "outputs": [
        {
          "output_type": "stream",
          "name": "stdout",
          "text": [
            "5\n"
          ]
        }
      ]
    },
    {
      "cell_type": "markdown",
      "source": [
        "Ejercicio 12\n",
        "Escribir un programa que almacene las matrices A y B en una lista luego muestre por pantalla su producto.\n",
        "Nota: Para representar matrices mediante listas usar listas anidadas, representando cada vector fila en una lista.\n",
        "\n",
        "![MatrizAyBTP2.png](data:image/png;base64,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)\n",
        "\n",
        "\n",
        "\n"
      ],
      "metadata": {
        "id": "K5E9DIBc8URX"
      }
    },
    {
      "cell_type": "code",
      "source": [
        "import numpy as np\n",
        "A = [[1,2,3],[4,5,6]]\n",
        "B = [[-1,0],[0,1],[1,1]]\n",
        "print(np.matmul(A,B))"
      ],
      "metadata": {
        "id": "XCZipOOc8svT",
        "colab": {
          "base_uri": "https://localhost:8080/"
        },
        "outputId": "984b8a6c-bae2-4684-86eb-ce44e7e97019"
      },
      "execution_count": null,
      "outputs": [
        {
          "output_type": "stream",
          "name": "stdout",
          "text": [
            "[[ 2  5]\n",
            " [ 2 11]]\n"
          ]
        }
      ]
    },
    {
      "cell_type": "markdown",
      "source": [
        "Ejercicio 13\n",
        "Escribir un programa que pregunte por una muestra de números, separados por comas, los guarde en una lista y muestre por pantalla su media y desviación típica.\n"
      ],
      "metadata": {
        "id": "QI8C_ozq8tJW"
      }
    },
    {
      "cell_type": "code",
      "source": [
        "import math\n",
        "\n",
        "a = []\n",
        "a_int = []\n",
        "d = input(\"Dame los numeros separados por coma y te doy su valor medio y desviacion tipica \")\n",
        "a = d.split(\",\")\n",
        "suma = 0\n",
        "a_int = [int(num) for num in a]\n",
        "med = sum(a_int)/len(a_int)\n",
        "for i in a_int:\n",
        "  suma += (i-med)**2\n",
        "desv = math.sqrt(suma/(len(a_int)-1))\n",
        "print(f\"Para los datos {a_int}, la media es {med} y la desviacion media {desv}\")"
      ],
      "metadata": {
        "id": "yYh_w6tj8u11",
        "colab": {
          "base_uri": "https://localhost:8080/"
        },
        "outputId": "a2b1b369-8cf4-448d-f7dd-260944739211"
      },
      "execution_count": null,
      "outputs": [
        {
          "output_type": "stream",
          "name": "stdout",
          "text": [
            "Dame los numeros separados por coma y te doy su valor medio y desviacion tipica 5,4,3,2,6,7,3,45,6\n",
            "Para los datos [5, 4, 3, 2, 6, 7, 3, 45, 6], la media es 9.0 y la desviacion media 13.601470508735444\n"
          ]
        }
      ]
    },
    {
      "cell_type": "markdown",
      "source": [
        "# Ejercicios de Diccionarios y librerias"
      ],
      "metadata": {
        "id": "cPUaJeaM-uYD"
      }
    },
    {
      "cell_type": "markdown",
      "source": [
        "Ejercicio 1\n",
        "\n",
        "Escribir un programa que guarde en una variable el diccionario {'Euro':'€', 'Dollar':'$', 'Yen':'¥'}, pregunte al usuario por una divisa y muestre su símbolo o un mensaje de aviso si la divisa no está en el diccionario.\n"
      ],
      "metadata": {
        "id": "wSmrXPZiCEPl"
      }
    },
    {
      "cell_type": "code",
      "source": [
        "divisas = {\n",
        "    'Euro':'€',\n",
        "    'Dollar':'$',\n",
        "    'Yen':'¥'\n",
        "}\n",
        "dato = str(input(\"Escribi el tipo de divisa para conocer su signo \"))\n",
        "if divisas.get(dato) != None:\n",
        "  print(f\"la divisa {dato} tiene el signo {divisas.get(dato)}\")\n",
        "else:\n",
        "  print(\"Esa divisa no se encuentra disponible\")"
      ],
      "metadata": {
        "id": "bcLsN6rIDpbC",
        "colab": {
          "base_uri": "https://localhost:8080/"
        },
        "outputId": "dea402f2-8fd4-498d-a1f1-75a029a9d4a4"
      },
      "execution_count": null,
      "outputs": [
        {
          "output_type": "stream",
          "name": "stdout",
          "text": [
            "Escribi el tipo de divisa para conocer su signo peso\n",
            "Le pifiaste bro\n"
          ]
        }
      ]
    },
    {
      "cell_type": "markdown",
      "source": [
        "Ejercicio 2\n",
        "Escribir un programa que pregunte al usuario su nombre, edad, dirección y teléfono y lo guarde en un diccionario. Después debe mostrar por pantalla el mensaje <nombre> tiene <edad> años, vive en <dirección> y su número de teléfono es <teléfono>."
      ],
      "metadata": {
        "id": "yiXqfk7GDqKJ"
      }
    },
    {
      "cell_type": "code",
      "source": [
        "n = str(input(\"Cual es tu nombre?\"))\n",
        "e = str(input(\"Cual es tu edad?\"))\n",
        "d = str(input(\"Cual es tu direccion?\"))\n",
        "t = str(input(\"Cual es tu telefono?\"))\n",
        "datos = {'Nombre': n, 'Edad': e,'Direccion': d, 'Telefono': t}\n",
        "print(f\"Usted tiene {datos['Edad']} vive en {datos['Direccion']} y su numero de telefono es {datos['Telefono']} \")"
      ],
      "metadata": {
        "id": "h7S2NX7tDqZl",
        "colab": {
          "base_uri": "https://localhost:8080/"
        },
        "outputId": "31763256-134c-4e29-dc52-1cf50c8b5515"
      },
      "execution_count": null,
      "outputs": [
        {
          "output_type": "stream",
          "name": "stdout",
          "text": [
            "Cual es tu nombre?Facu\n",
            "Cual es tu edad?27\n",
            "Cual es tu direccion?Quete 1234\n",
            "Cual es tu telefono?1234567789\n",
            "Usted tiene27 vive en Quete 1234 y su numero de telefono es 1234567789 \n"
          ]
        }
      ]
    },
    {
      "cell_type": "markdown",
      "source": [
        "Ejercicio 3\n",
        "Escribir un programa que guarde en un diccionario los precios de las frutas de la tabla, pregunte al usuario por una fruta, un número de kilos y muestre por pantalla el precio de ese número de kilos de fruta. Si la fruta no está en el diccionario debe mostrar un mensaje informando de ello.\n",
        "\n",
        "Fruta\t  Precio\n",
        "\n",
        "Plátano\t1.35\n",
        "\n",
        "Manzana\t0.80\n",
        "\n",
        "Pera\t  0.85\n",
        "\n",
        "Naranja\t0.70\n"
      ],
      "metadata": {
        "id": "OJgG-F5XDYXP"
      }
    },
    {
      "cell_type": "code",
      "source": [
        "frutas = {\n",
        "    'Platano': 1.35,\n",
        "    'Manzana': 0.80,\n",
        "    'Pera': 0.85,\n",
        "    'Naranja': 0.70,\n",
        "}\n",
        "Cond = True\n",
        "c = 0\n",
        "while Cond == True:\n",
        "  a = str(input('Que fruta queres comprar? '))\n",
        "  b = float(input('Cuantos kilos? '))\n",
        "  if b != 0 :\n",
        "    c = frutas.get(a)*b\n",
        "    print(f\"{b} kg de {a} es igual a {c} \")\n",
        "  else:\n",
        "    print(\"disculpe, pero seleccione un valor distinto de 0\")\n",
        "    continue\n",
        "  Cond = str(input('Desea comprar mas fruta o salir?')) == \"Si\""
      ],
      "metadata": {
        "id": "Bx4pw2KyDbGw",
        "colab": {
          "base_uri": "https://localhost:8080/"
        },
        "outputId": "5274293d-ccda-4bd8-8b2a-bf66ff1cc05d"
      },
      "execution_count": null,
      "outputs": [
        {
          "name": "stdout",
          "output_type": "stream",
          "text": [
            "Que fruta queres comprar? Platano\n",
            "Cuantos kilos? 6\n",
            "6.0 kg de Platano es igual a 8.100000000000001 \n",
            "Desea comprar mas fruta o salir?No\n"
          ]
        }
      ]
    },
    {
      "cell_type": "markdown",
      "source": [
        "Ejercicio 4\n",
        "\n",
        "Escribir un programa que pregunte una fecha en formato dd/mm/aaaa y muestre por pantalla la misma fecha en formato dd de \"mes\" de aaaa donde \"mes\" es el nombre del mes."
      ],
      "metadata": {
        "id": "MqHr6zQpDazP"
      }
    },
    {
      "cell_type": "code",
      "source": [
        "fecha = str(input(\"Ingresar fecha en formato dd/mm/aaaa\"))\n",
        "date = fecha.split(\"/\")\n",
        "meses = {'01': 'Enero','02': 'Febrero','03': 'Marzo','04': 'Abril','05': 'Mayo','06': 'Junio','07': 'Julio','08': 'Agosto','09': 'Septiembre','10': 'Octubre','11': 'Noviembre', '12': 'Diciembre'}\n",
        "print(f'{date[0]} de {meses.get(date[1])} de {date[2]}')"
      ],
      "metadata": {
        "id": "QPf5XLc-DX7F",
        "colab": {
          "base_uri": "https://localhost:8080/"
        },
        "outputId": "2a7c10e0-6046-4a12-f0ca-12c2feaa2835"
      },
      "execution_count": null,
      "outputs": [
        {
          "output_type": "stream",
          "name": "stdout",
          "text": [
            "Ingresar fecha en formato dd/mm/aaaa15/08/1996\n",
            "15 de Agosto de 1996\n"
          ]
        }
      ]
    },
    {
      "cell_type": "markdown",
      "source": [
        "Ejercicio 5\n",
        "\n",
        "Escribir un programa que almacene el diccionario con los créditos de las asignaturas de un curso {'Matemáticas': 6, 'Física': 4, 'Química': 5} y después muestre por pantalla los créditos de cada asignatura en el formato \"<asignatura> tiene <créditos> créditos\", donde 'asignatura' es cada una de las asignaturas del curso, y 'créditos' son sus créditos. Al final debe mostrar también el número total de créditos del curso."
      ],
      "metadata": {
        "id": "0SlmWGzfDIl5"
      }
    },
    {
      "cell_type": "code",
      "source": [
        "curso = {'Matemáticas': 6, 'Física': 4, 'Química': 5}\n",
        "for materia in curso:\n",
        "  print(f\"En la {materia} tiene {curso.get(materia)} creditos\")\n",
        "print(f\"El total de creditos son {len(curso)}\")"
      ],
      "metadata": {
        "id": "1In59L6SDJaN",
        "colab": {
          "base_uri": "https://localhost:8080/"
        },
        "outputId": "5e783e61-fd83-4261-b30f-682ce69e9c99"
      },
      "execution_count": null,
      "outputs": [
        {
          "output_type": "stream",
          "name": "stdout",
          "text": [
            "En la Matemáticas tiene 6 creditos\n",
            "En la Física tiene 4 creditos\n",
            "En la Química tiene 5 creditos\n",
            "El total de creditos son 3\n"
          ]
        }
      ]
    },
    {
      "cell_type": "markdown",
      "source": [
        "Ejercicio 6\n",
        "Escribir un programa que cree un diccionario vacío y lo vaya llenado con información sobre una persona (por ejemplo nombre, edad, genero, teléfono, correo electrónico, etc.) que se le pida al usuario. Cada vez que se añada un nuevo dato debe imprimirse el contenido del diccionario."
      ],
      "metadata": {
        "id": "2M9jDK_VDCxb"
      }
    },
    {
      "cell_type": "code",
      "source": [
        "info = {}\n",
        "cond = True\n",
        "datos = ['Nombre', 'Edad', 'Genero', 'Telefono', 'Correo Electronico']\n",
        "for dato in datos:\n",
        "  info[dato] = str(input(f\"Insertar {dato}: \"))\n",
        "  print(info)"
      ],
      "metadata": {
        "id": "-p__PQz5DDGp",
        "colab": {
          "base_uri": "https://localhost:8080/"
        },
        "outputId": "76397003-c594-4e49-cc94-1e8587b90e68"
      },
      "execution_count": null,
      "outputs": [
        {
          "output_type": "stream",
          "name": "stdout",
          "text": [
            "Insertar Nombre: Pepito\n",
            "{'Nombre': 'Pepito'}\n",
            "Insertar Edad: 75\n",
            "{'Nombre': 'Pepito', 'Edad': '75'}\n",
            "Insertar Genero: No Contesta\n",
            "{'Nombre': 'Pepito', 'Edad': '75', 'Genero': 'No Contesta'}\n",
            "Insertar Telefono: 1234567890\n",
            "{'Nombre': 'Pepito', 'Edad': '75', 'Genero': 'No Contesta', 'Telefono': '1234567890'}\n",
            "Insertar Correo Electronico: pepitonc@gmail.com\n",
            "{'Nombre': 'Pepito', 'Edad': '75', 'Genero': 'No Contesta', 'Telefono': '1234567890', 'Correo Electronico': 'pepitonc@gmail.com'}\n"
          ]
        }
      ]
    },
    {
      "cell_type": "markdown",
      "source": [
        "Ejercicio 7\n",
        "\n",
        "Escribir un programa que cree un diccionario simulando una cesta de la compra. El programa debe preguntar el artículo y su precio y añadir el par al diccionario, hasta que el usuario decida terminar. Después se debe mostrar por pantalla la lista de la compra y el coste total, con el siguiente formato\n",
        "\n",
        "Lista de la compra\n",
        "\n",
        "Artículo 1 |  Precio\n",
        "\n",
        "Artículo 2 |  Precio\n",
        "\n",
        "Artículo 3 |\tPrecio\n",
        "\n",
        "---\n",
        "Total\tCoste"
      ],
      "metadata": {
        "id": "UHYI-wArCd_4"
      }
    },
    {
      "cell_type": "code",
      "source": [
        "cesto = {}\n",
        "cond = True\n",
        "art = \"\"\n",
        "pre = 0\n",
        "while cond == True:\n",
        "  art = str(input(\"Ingresar el articulo o finalizar con 0\"))\n",
        "  if art != \"0\":\n",
        "    cesto[art] = float(input(f'ingresar el precio de {art}'))\n",
        "  else:\n",
        "    break\n",
        "for art in cesto:\n",
        "  pre += cesto.get(art)\n",
        "  print(f'{art} = ${cesto.get(art)}')\n",
        "print(f'Costo total = $ {pre}')"
      ],
      "metadata": {
        "id": "LU4EYDYYCdW_",
        "colab": {
          "base_uri": "https://localhost:8080/"
        },
        "outputId": "5cc6eb7b-3570-4aaf-de59-03e6154c2eea"
      },
      "execution_count": null,
      "outputs": [
        {
          "output_type": "stream",
          "name": "stdout",
          "text": [
            "Ingresar el articulo o finalizar con 0Celular\n",
            "ingresar el precio de Celular750\n",
            "Ingresar el articulo o finalizar con 0Computadora\n",
            "ingresar el precio de Computadora2000\n",
            "Ingresar el articulo o finalizar con 0Tablet\n",
            "ingresar el precio de Tablet1200\n",
            "Ingresar el articulo o finalizar con 00\n",
            "Celular = $750.0\n",
            "Computadora = $2000.0\n",
            "Tablet = $1200.0\n",
            "Costo total = $ 3950.0\n"
          ]
        }
      ]
    },
    {
      "cell_type": "markdown",
      "source": [
        "Ejercicio 8\n",
        "Escribir un programa que cree un diccionario de traducción español-inglés. El usuario introducirá las palabras en español e inglés separadas por dos puntos, y cada par 'palabra':'traducción' separados por comas. El programa debe crear un diccionario con las palabras y sus traducciones. Después pedirá una frase en español y utilizará el diccionario para traducirla palabra a palabra. Si una palabra no está en el diccionario debe dejarla sin traducir.\n"
      ],
      "metadata": {
        "id": "NjstfTOzCX-5"
      }
    },
    {
      "cell_type": "code",
      "source": [
        "trad = {}\n",
        "pals = str(input(\"Escribir las palabras traducidas en el formato palabra:traduccion separando por coma cada traduccion\"))\n",
        "for palabra in pals.split(\",\"):\n",
        "  clave, valor = palabra.split(\":\")\n",
        "  trad[clave] = valor\n",
        "print(trad)\n",
        "frase = str(input(\"Decime una frase en español que incluya esas palabras\"))\n",
        "for palabra in frase.split():\n",
        "  if palabra in trad:\n",
        "    print(trad[palabra], end=' ')\n",
        "  else:\n",
        "    print(palabra, end=' ')"
      ],
      "metadata": {
        "id": "VeTmlJSQCYVh",
        "colab": {
          "base_uri": "https://localhost:8080/"
        },
        "outputId": "389fa006-291c-4dc6-d576-193b58606d85"
      },
      "execution_count": null,
      "outputs": [
        {
          "output_type": "stream",
          "name": "stdout",
          "text": [
            "Escribir las palabras traducidas en el formato palabra:traduccion separando por coma cada traduccionpapa:potato,fritas:fries,comer:eat\n",
            "{'papa': 'potato', 'fritas': 'fries', 'comer': 'eat'}\n",
            "Decime una frase en español que incluya esas palabrasVoy a comer papa fritas\n",
            "Voy a eat potato fries "
          ]
        }
      ]
    },
    {
      "cell_type": "markdown",
      "source": [
        "Ejercicio 9\n",
        "Escribir un programa que gestione las facturas pendientes de cobro de una empresa. Las facturas se almacenarán en un diccionario donde la clave de cada factura será el número de factura y el valor el coste de la factura. El programa debe preguntar al usuario si quiere añadir una nueva factura, pagar una existente o terminar. Si desea añadir una nueva factura se preguntará por el número de factura y su coste y se añadirá al diccionario. Si se desea pagar una factura se preguntará por el número de factura y se eliminará del diccionario. Después de cada operación el programa debe mostrar por pantalla la cantidad cobrada hasta el momento y la cantidad pendiente de cobro.\n"
      ],
      "metadata": {
        "id": "N6duvztXCTYD"
      }
    },
    {
      "cell_type": "code",
      "source": [
        "facturas = {}\n",
        "cobrado = 0\n",
        "pendiente = 0\n",
        "more = ''\n",
        "while more != 'T':\n",
        "    if more == 'A':\n",
        "        clave = input('Introduce el número de la factura: ')\n",
        "        coste = float(input('Introduce el coste de la factura: '))\n",
        "        facturas[clave] = coste\n",
        "        pendiente += coste\n",
        "    if more == 'P':\n",
        "        clave = input('Introduce el número de la factura a pagar: ')\n",
        "        coste = facturas.pop(clave, 0)\n",
        "        cobrado += coste\n",
        "        pendiente -= coste\n",
        "    print('Recaudado:', cobrado)\n",
        "    print('Pendiente de cobro: ', pendiente)\n",
        "    more = input('¿Quieres añadir una nueva factura (A), pagarla (P) o terminar (T)? ')"
      ],
      "metadata": {
        "id": "ypMloATvCTs8",
        "colab": {
          "base_uri": "https://localhost:8080/",
          "height": 356
        },
        "outputId": "2c048e7f-147b-4f3f-fabf-5b810aa3040b"
      },
      "execution_count": null,
      "outputs": [
        {
          "output_type": "stream",
          "name": "stdout",
          "text": [
            "Recaudado: 0\n",
            "Pendiente de cobro:  0\n"
          ]
        },
        {
          "output_type": "error",
          "ename": "KeyboardInterrupt",
          "evalue": "Interrupted by user",
          "traceback": [
            "\u001b[0;31m---------------------------------------------------------------------------\u001b[0m",
            "\u001b[0;31mKeyboardInterrupt\u001b[0m                         Traceback (most recent call last)",
            "\u001b[0;32m<ipython-input-2-a9277552bd26>\u001b[0m in \u001b[0;36m<cell line: 5>\u001b[0;34m()\u001b[0m\n\u001b[1;32m     16\u001b[0m     \u001b[0mprint\u001b[0m\u001b[0;34m(\u001b[0m\u001b[0;34m'Recaudado:'\u001b[0m\u001b[0;34m,\u001b[0m \u001b[0mcobrado\u001b[0m\u001b[0;34m)\u001b[0m\u001b[0;34m\u001b[0m\u001b[0;34m\u001b[0m\u001b[0m\n\u001b[1;32m     17\u001b[0m     \u001b[0mprint\u001b[0m\u001b[0;34m(\u001b[0m\u001b[0;34m'Pendiente de cobro: '\u001b[0m\u001b[0;34m,\u001b[0m \u001b[0mpendiente\u001b[0m\u001b[0;34m)\u001b[0m\u001b[0;34m\u001b[0m\u001b[0;34m\u001b[0m\u001b[0m\n\u001b[0;32m---> 18\u001b[0;31m     \u001b[0mmore\u001b[0m \u001b[0;34m=\u001b[0m \u001b[0minput\u001b[0m\u001b[0;34m(\u001b[0m\u001b[0;34m'¿Quieres añadir una nueva factura (A), pagarla (P) o terminar (T)? '\u001b[0m\u001b[0;34m)\u001b[0m\u001b[0;34m\u001b[0m\u001b[0;34m\u001b[0m\u001b[0m\n\u001b[0m",
            "\u001b[0;32m/usr/local/lib/python3.10/dist-packages/ipykernel/kernelbase.py\u001b[0m in \u001b[0;36mraw_input\u001b[0;34m(self, prompt)\u001b[0m\n\u001b[1;32m    849\u001b[0m                 \u001b[0;34m\"raw_input was called, but this frontend does not support input requests.\"\u001b[0m\u001b[0;34m\u001b[0m\u001b[0;34m\u001b[0m\u001b[0m\n\u001b[1;32m    850\u001b[0m             )\n\u001b[0;32m--> 851\u001b[0;31m         return self._input_request(str(prompt),\n\u001b[0m\u001b[1;32m    852\u001b[0m             \u001b[0mself\u001b[0m\u001b[0;34m.\u001b[0m\u001b[0m_parent_ident\u001b[0m\u001b[0;34m,\u001b[0m\u001b[0;34m\u001b[0m\u001b[0;34m\u001b[0m\u001b[0m\n\u001b[1;32m    853\u001b[0m             \u001b[0mself\u001b[0m\u001b[0;34m.\u001b[0m\u001b[0m_parent_header\u001b[0m\u001b[0;34m,\u001b[0m\u001b[0;34m\u001b[0m\u001b[0;34m\u001b[0m\u001b[0m\n",
            "\u001b[0;32m/usr/local/lib/python3.10/dist-packages/ipykernel/kernelbase.py\u001b[0m in \u001b[0;36m_input_request\u001b[0;34m(self, prompt, ident, parent, password)\u001b[0m\n\u001b[1;32m    893\u001b[0m             \u001b[0;32mexcept\u001b[0m \u001b[0mKeyboardInterrupt\u001b[0m\u001b[0;34m:\u001b[0m\u001b[0;34m\u001b[0m\u001b[0;34m\u001b[0m\u001b[0m\n\u001b[1;32m    894\u001b[0m                 \u001b[0;31m# re-raise KeyboardInterrupt, to truncate traceback\u001b[0m\u001b[0;34m\u001b[0m\u001b[0;34m\u001b[0m\u001b[0m\n\u001b[0;32m--> 895\u001b[0;31m                 \u001b[0;32mraise\u001b[0m \u001b[0mKeyboardInterrupt\u001b[0m\u001b[0;34m(\u001b[0m\u001b[0;34m\"Interrupted by user\"\u001b[0m\u001b[0;34m)\u001b[0m \u001b[0;32mfrom\u001b[0m \u001b[0;32mNone\u001b[0m\u001b[0;34m\u001b[0m\u001b[0;34m\u001b[0m\u001b[0m\n\u001b[0m\u001b[1;32m    896\u001b[0m             \u001b[0;32mexcept\u001b[0m \u001b[0mException\u001b[0m \u001b[0;32mas\u001b[0m \u001b[0me\u001b[0m\u001b[0;34m:\u001b[0m\u001b[0;34m\u001b[0m\u001b[0;34m\u001b[0m\u001b[0m\n\u001b[1;32m    897\u001b[0m                 \u001b[0mself\u001b[0m\u001b[0;34m.\u001b[0m\u001b[0mlog\u001b[0m\u001b[0;34m.\u001b[0m\u001b[0mwarning\u001b[0m\u001b[0;34m(\u001b[0m\u001b[0;34m\"Invalid Message:\"\u001b[0m\u001b[0;34m,\u001b[0m \u001b[0mexc_info\u001b[0m\u001b[0;34m=\u001b[0m\u001b[0;32mTrue\u001b[0m\u001b[0;34m)\u001b[0m\u001b[0;34m\u001b[0m\u001b[0;34m\u001b[0m\u001b[0m\n",
            "\u001b[0;31mKeyboardInterrupt\u001b[0m: Interrupted by user"
          ]
        }
      ]
    },
    {
      "cell_type": "markdown",
      "source": [
        "Ejercicio 10\n",
        "Escribir un programa que permita gestionar la base de datos de clientes de una empresa. Los clientes se guardarán en un diccionario en el que la clave de cada cliente será su NIF, y el valor será otro diccionario con los datos del cliente (nombre, dirección, teléfono, correo, preferente), donde preferente tendrá el valor True si se trata de un cliente preferente. El programa debe preguntar al usuario por una opción del siguiente menú: (1) Añadir cliente, (2) Eliminar cliente, (3) Mostrar cliente, (4) Listar todos los clientes, (5) Listar clientes preferentes, (6) Terminar. En función de la opción elegida el programa tendrá que hacer lo siguiente:\n",
        "\n",
        "* Preguntar los datos del cliente, crear un diccionario con los datos y añadirlo a la base de datos.\n",
        "* Preguntar por el NIF del cliente y eliminar sus datos de la base de datos.\n",
        "* Preguntar por el NIF del cliente y mostrar sus datos.\n",
        "* Mostrar lista de todos los clientes de la base datos con su NIF y nombre.\n",
        "* Mostrar la lista de clientes preferentes de la base de datos con su NIF y nombre.\n",
        "* Terminar el programa.\n"
      ],
      "metadata": {
        "id": "NyHFbbUkCOqk"
      }
    },
    {
      "cell_type": "code",
      "source": [
        "clientes = {}\n",
        "opcion = ''\n",
        "while opcion != '6':\n",
        "    if opcion == '1':\n",
        "        nif = input('Introduce NIF del cliente: ')\n",
        "        nombre = input('Introduce el nombre del cliente: ')\n",
        "        direccion = input('Introduce la dirección del cliente: ')\n",
        "        telefono = input('Introduce el teléfono del cliente: ')\n",
        "        email = input('Introduce el correo electrónico del cliente: ')\n",
        "        vip = input('¿Es un cliente preferente (S/N)? ')\n",
        "        cliente = {'nombre':nombre, 'dirección':direccion, 'teléfono':telefono, 'email':email, 'preferente':vip=='S'}\n",
        "        clientes[nif] = cliente\n",
        "    if opcion == '2':\n",
        "        nif = input('Introduce NIF del cliente: ')\n",
        "        if nif in clientes:\n",
        "            del clientes[nif]\n",
        "        else:\n",
        "            print('No existe el cliente con el nif', nif)\n",
        "    if opcion == '3':\n",
        "        nif = input('Introduce NIF del cliente: ')\n",
        "        if nif in clientes:\n",
        "            print('NIF:', nif)\n",
        "            for clave, valor in clientes[nif].items():\n",
        "                print(clave.title() + ':', valor)\n",
        "        else:\n",
        "            print('No existe el cliente con el nif', nif)\n",
        "    if opcion == '4':\n",
        "        print('Lista de clientes')\n",
        "        for clave, valor in clientes.items():\n",
        "            print(clave, valor['nombre'])\n",
        "    if opcion == '5':\n",
        "        print('Lista de clientes preferentes')\n",
        "        for clave, valor in clientes.items():\n",
        "            if valor['preferente']:\n",
        "                print(clave, valor['nombre'])\n",
        "    opcion = input('Menú de opciones\\n(1) Añadir cliente\\n(2) Eliminar cliente\\n(3) Mostrar cliente\\n(4) Listar clientes\\n(5) Listar clientes preferentes\\n(6) Terminar\\nElige una opción:')\n"
      ],
      "metadata": {
        "id": "m0yYeSfiCOI_"
      },
      "execution_count": null,
      "outputs": []
    },
    {
      "cell_type": "markdown",
      "source": [
        "Ejercicio 11\n",
        "El directorio de los clientes de una empresa está organizado en una cadena de texto como la de más abajo, donde cada línea contiene la información del nombre, email, teléfono, nif, y el descuento que se le aplica. Las líneas se separan con el carácter de cambio de línea \\n y la primera línea contiene los nombres de los campos con la información contenida en el directorio.\n",
        "\n",
        "```python\n",
        "\"nif;nombre;email;teléfono;descuento\\n01234567L;Luis González;luisgonzalez@mail.com;656343576;12.5\\n71476342J;Macarena Ramírez;macarena@mail.com;692839321;8\\n63823376M;Juan José Martínez;juanjo@mail.com;664888233;5.2\\n98376547F;Carmen Sánchez;carmen@mail.com;667677855;15.7\"\n",
        "```\n",
        "Escribir un programa que genere un diccionario con la información del directorio, donde cada elemento corresponda a un cliente y tenga por clave su nif y por valor otro diccionario con el resto de la información del cliente. Los diccionarios con la información de cada cliente tendrán como claves los nombres de los campos y como valores la información de cada cliente correspondientes a los campos. Es decir, un diccionario como el siguiente\n",
        "\n",
        "\n",
        "```python\n",
        "\"nif;nombre;email;teléfono;descuento\\n01234567L;Luis González;luisgonzalez@mail.com;656343576;12.5\\n71476342J;Macarena Ramírez;macarena@mail.com;692839321;8\\n63823376M;Juan José Martínez;juanjo@mail.com;664888233;5.2\\n98376547F;Carmen Sánchez;carmen@mail.com;667677855;15.7\"\n",
        "```\n",
        "\n"
      ],
      "metadata": {
        "id": "1osujX-6CI5u"
      }
    },
    {
      "cell_type": "code",
      "source": [
        "# Cadena con los datos de los clientes de la empresa\n",
        "datos_clientes = \"nif;nombre;email;teléfono;descuento\\n01234567L;Luis González;luisgonzalez@mail.com;656343576;12.5\\n71476342J;Macarena Ramírez;macarena@mail.com;692839321;8\\n63823376M;Juan José Martínez;juanjo@mail.com;664888233;5.2\\n98376547F;Carmen Sánchez;carmen@mail.com;667677855;15.7\"\n",
        "# Dividimos la cadena por el caracter de cambio de línea \\n y creamos una lista con las subcadenas\n",
        "lista_clientes = datos_clientes.split('\\n')\n",
        "# Inicializamos el diccionario que va a contener el directorio de clientes a vacío.\n",
        "directorio = {}\n",
        "# Dividimos la cadena del primer elemento de la lista de clientes (que contienen los\n",
        "# nombres de los campos) por el caracter ; y creamos una lista con los campos.\n",
        "lista_campos = lista_clientes[0].split(';')\n",
        "# Bucle iterativo para recorrer los elementos de la lista lista_clientes.\n",
        "# la variable cliente recorre desde el segundo elemento hasta el último elemento de la lista\n",
        "# (el primer elemento contiene los nombres de campo así que no corresponde a un cliente)\n",
        "for i in lista_clientes[1:]:\n",
        "    # Inicializamos el diccionario que va a contener los datos del cliente actual a vacío.\n",
        "    cliente = {}\n",
        "    # Dividimos la cadena i por el caracter ; y creamos una lista con las subcadenas con la\n",
        "    # información del cliente\n",
        "    lista_info = i.split(';')\n",
        "    # Bucle iterativo para recorrer los campos y añadir los pares al diccionario del cliente.\n",
        "    # j toma valores de 1 al número de campos menos 1. El primer elemento (posición 0) corresponde\n",
        "    # al nif y no se añade al diccionario porque se utilizará después como clave en el diccionario\n",
        "    # principal\n",
        "    for j in range(1,len(lista_campos)):\n",
        "        # Condicional. Si el campo actual es descuento convertimos su valor en real\n",
        "        if lista_campos[j] == 'descuento':\n",
        "            lista_info[j] = float(lista_info[j])\n",
        "        cliente[lista_campos[j]] = lista_info[j]\n",
        "    # Añadirmos un par al diccionario del directorio con la clave el nif del cliente y valor\n",
        "    # el diccionario que acabamos de crear con el resto de sus datos.\n",
        "    directorio[lista_info[0]] = cliente\n",
        "# Mostramos el diccionario por pantalla\n",
        "print(directorio)"
      ],
      "metadata": {
        "id": "DgTQ_qO5HHCi"
      },
      "execution_count": null,
      "outputs": []
    },
    {
      "cell_type": "markdown",
      "source": [
        "# Ejercicios de Funciones"
      ],
      "metadata": {
        "id": "e4X7oOVMHE5I"
      }
    },
    {
      "cell_type": "markdown",
      "source": [
        "Ejercicio 1\n",
        "Escribir una función que muestre por pantalla el saludo ¡Hola amiga! cada vez que se la invoque."
      ],
      "metadata": {
        "id": "DZ_xwyPCHOAI"
      }
    },
    {
      "cell_type": "code",
      "source": [
        "def Saludar():\n",
        "  print(\"¡Hola amiga!\")\n",
        "\n",
        "Saludar()"
      ],
      "metadata": {
        "id": "kmSwAB9NCJn7",
        "colab": {
          "base_uri": "https://localhost:8080/"
        },
        "outputId": "d3b94cec-e036-4243-fd7d-094cfcb0a123"
      },
      "execution_count": null,
      "outputs": [
        {
          "output_type": "stream",
          "name": "stdout",
          "text": [
            "¡Hola amiga!\n"
          ]
        }
      ]
    },
    {
      "cell_type": "markdown",
      "source": [
        "Ejercicio 2\n",
        "Escribir una función a la que se le pase una cadena 'nombre' y muestre por pantalla el saludo ¡hola 'nombre'!.\n"
      ],
      "metadata": {
        "id": "NIPf0XG4IXv4"
      }
    },
    {
      "cell_type": "code",
      "source": [
        "def Saludar(cadena):\n",
        "  print(f'Hola {cadena}')\n",
        "\n",
        "Saludar(str(input(\"Ingresa tu nombre\")))"
      ],
      "metadata": {
        "id": "txA9K0L7Ig5g",
        "colab": {
          "base_uri": "https://localhost:8080/"
        },
        "outputId": "7490593c-f159-4e46-d87a-3f0f59f5923b"
      },
      "execution_count": null,
      "outputs": [
        {
          "output_type": "stream",
          "name": "stdout",
          "text": [
            "Ingresa tu nombreFacu\n",
            "Hola Facu\n"
          ]
        }
      ]
    },
    {
      "cell_type": "markdown",
      "source": [
        "Ejercicio 3\n",
        "Escribir una función que reciba un número entero positivo y devuelva su factorial.\n"
      ],
      "metadata": {
        "id": "FucwhE-qIhJI"
      }
    },
    {
      "cell_type": "code",
      "source": [
        "def Factorial(numero):\n",
        "  numero = int(round(float(numero)))\n",
        "  if numero < 0:\n",
        "    print(\"El factorial debe ser de un numero positivo\")\n",
        "  elif numero == 0:\n",
        "    return 1\n",
        "  else:\n",
        "    fact = 1\n",
        "    while numero > 1:\n",
        "      fact *= numero\n",
        "      numero -= 1\n",
        "    return fact\n",
        "Factorial(input(\"Dame un numero\"))"
      ],
      "metadata": {
        "id": "JaW8DnpYIkMD",
        "colab": {
          "base_uri": "https://localhost:8080/"
        },
        "outputId": "c66b8a21-3f4b-43a8-ceea-b464365bab6f"
      },
      "execution_count": null,
      "outputs": [
        {
          "name": "stdout",
          "output_type": "stream",
          "text": [
            "Dame un numero4\n"
          ]
        },
        {
          "output_type": "execute_result",
          "data": {
            "text/plain": [
              "24"
            ]
          },
          "metadata": {},
          "execution_count": 15
        }
      ]
    },
    {
      "cell_type": "markdown",
      "source": [
        "Ejercicio 4\n",
        "Escribir una función que calcule el total de una factura tras aplicarle el IVA. La función debe recibir la cantidad sin IVA y el porcentaje de IVA a aplicar, y devolver el total de la factura. Si se invoca la función sin pasarle el porcentaje de IVA, deberá aplicar un 21%."
      ],
      "metadata": {
        "id": "pb9lEUisIkZ9"
      }
    },
    {
      "cell_type": "code",
      "source": [
        "def cal_iva(fact,iva=None):\n",
        "  if iva is None:\n",
        "    res = fact * 1.21\n",
        "    return res\n",
        "  elif iva > 1: #por si el usuario da un valor mayor a 1\n",
        "    iva = iva/100\n",
        "    res = fact*(1+iva)\n",
        "    return res\n",
        "  else:\n",
        "    res = fact*(1+iva)\n",
        "    return res\n",
        "dato1 = float(input(\"Dame el valor de la factura \"))\n",
        "cal_iva(dato1)"
      ],
      "metadata": {
        "id": "lTphUN_qIoNr",
        "colab": {
          "base_uri": "https://localhost:8080/"
        },
        "outputId": "aba28b6f-fffe-45b0-f2e5-ba8996a5037d"
      },
      "execution_count": null,
      "outputs": [
        {
          "name": "stdout",
          "output_type": "stream",
          "text": [
            "Dame el valor de la factura 2500\n"
          ]
        },
        {
          "output_type": "execute_result",
          "data": {
            "text/plain": [
              "3025.0"
            ]
          },
          "metadata": {},
          "execution_count": 23
        }
      ]
    },
    {
      "cell_type": "markdown",
      "source": [
        "Ejercicio 5\n",
        "Escribir una función que calcule el área de un círculo y otra que calcule el volumen de un cilindro usando la primera función.\n"
      ],
      "metadata": {
        "id": "VBCwyCkIIoaE"
      }
    },
    {
      "cell_type": "code",
      "source": [
        "import math\n",
        "def areacir(radio):\n",
        "  area = math.pi*radio**2\n",
        "  return area\n",
        "def volcil(radio,alto):\n",
        "  vol = areacir(radio)*alto\n",
        "  return vol\n",
        "r = float(input(\"Dame el radio \"))\n",
        "print(areacir(r))\n",
        "a = float(input(\"Dame el alto \"))\n",
        "print(volcil(r,a))\n",
        "\n"
      ],
      "metadata": {
        "id": "UyGvE0rkIsar",
        "colab": {
          "base_uri": "https://localhost:8080/"
        },
        "outputId": "4aba76d6-c305-4fe7-c420-cb97b14496a6"
      },
      "execution_count": null,
      "outputs": [
        {
          "output_type": "stream",
          "name": "stdout",
          "text": [
            "Dame el radio 5\n",
            "78.53981633974483\n",
            "Dame el alto 6\n",
            "471.23889803846896\n"
          ]
        }
      ]
    },
    {
      "cell_type": "markdown",
      "source": [
        "Ejercicio 6\n",
        "Escribir una función que reciba una muestra de números en una lista y devuelva su media.\n"
      ],
      "metadata": {
        "id": "PypHdmu0IyLK"
      }
    },
    {
      "cell_type": "code",
      "source": [
        "def med(lista):\n",
        "  suma = 0\n",
        "  for i in lista.split(\",\"):\n",
        "    i = float(i)\n",
        "    suma +=i\n",
        "  res = suma/len(lista.split(\",\"))\n",
        "  return res\n",
        "dato = str(input(\"Dame una lista de valores separado por coma \"))\n",
        "print(med(dato))"
      ],
      "metadata": {
        "id": "4519iS85Iyg-",
        "colab": {
          "base_uri": "https://localhost:8080/"
        },
        "outputId": "c9b394aa-2206-405c-ab10-c04b69ee3a8b"
      },
      "execution_count": null,
      "outputs": [
        {
          "output_type": "stream",
          "name": "stdout",
          "text": [
            "Dame una lista de valores separado por coma 5,6,7,6,7,1\n",
            "5.333333333333333\n"
          ]
        }
      ]
    },
    {
      "cell_type": "markdown",
      "source": [
        "Ejercicio 7\n",
        "Escribir una función que reciba una muestra de números en una lista y devuelva otra lista con sus cuadrados.\n"
      ],
      "metadata": {
        "id": "OYYYOhsDIslR"
      }
    },
    {
      "cell_type": "code",
      "source": [
        "def sqr(lista):\n",
        "  sqr = []\n",
        "  for numero in lista:\n",
        "    numero = float(numero)\n",
        "    sqr.append(numero**2)\n",
        "  return sqr\n",
        "stng = str(input(\"Dame una lista de numeros separados por coma\"))\n",
        "l = stng.split(\",\")\n",
        "print(sqr(l))"
      ],
      "metadata": {
        "id": "31EIxRVSI3Ss",
        "colab": {
          "base_uri": "https://localhost:8080/"
        },
        "outputId": "ec6e947f-d61a-4b65-d0d5-8b36ef44f1ae"
      },
      "execution_count": null,
      "outputs": [
        {
          "output_type": "stream",
          "name": "stdout",
          "text": [
            "Dame una lista de numeros separados por coma5,2,4,9\n",
            "[25.0, 4.0, 16.0, 81.0]\n"
          ]
        }
      ]
    },
    {
      "cell_type": "markdown",
      "source": [
        "Ejercicio 8\n",
        "Escribir una función que reciba una muestra de números en una lista y devuelva un diccionario con su media, varianza y desviación típica.\n"
      ],
      "metadata": {
        "id": "IIOCiYcdI3gA"
      }
    },
    {
      "cell_type": "code",
      "source": [
        "import numpy as np\n",
        "\n",
        "def strtoint(lista):\n",
        "  list_nume = []\n",
        "  for numero in lista:\n",
        "    list_nume.append(float(numero))\n",
        "  return list_nume\n",
        "def med(lista):\n",
        "  res1 = np.average(lista)\n",
        "  return res1\n",
        "def vari(lista):\n",
        "  res2 = np.var(lista)\n",
        "  return res2\n",
        "def desv(lista):\n",
        "  res3 = np.std(lista)\n",
        "  return res3\n",
        "def dicc_est(lista):\n",
        "  dicc = {\n",
        "      \"media\": med(lista),\n",
        "      \"varianza\": vari(lista),\n",
        "      \"Desviacion Tipica\": desv(lista)\n",
        "  }\n",
        "  return dicc\n",
        "stng = str(input(\"Dame una lista de numeros separados por coma\"))\n",
        "l = stng.split(\",\")\n",
        "l = strtoint(l)\n",
        "print(dicc_est(l))"
      ],
      "metadata": {
        "id": "bg60eGjjI52n",
        "colab": {
          "base_uri": "https://localhost:8080/"
        },
        "outputId": "4dd5f41c-7208-4b6b-9b6d-e289124f7073"
      },
      "execution_count": null,
      "outputs": [
        {
          "output_type": "stream",
          "name": "stdout",
          "text": [
            "Dame una lista de numeros separados por coma1,2,3,4,5,6,7,8,9\n",
            "{'media': 5.0, 'varianza': 6.666666666666667, 'Desviacion Tipica': 2.581988897471611}\n"
          ]
        }
      ]
    },
    {
      "cell_type": "markdown",
      "source": [
        "Ejercicio 9\n",
        "Escribir una función que calcule el máximo común divisor de dos números y otra que calcule el mínimo común múltiplo.\n"
      ],
      "metadata": {
        "id": "GitH3DnTI6BO"
      }
    },
    {
      "cell_type": "code",
      "source": [
        "import math\n",
        "def mcd(a,b):\n",
        "  if b == 0:\n",
        "      return a\n",
        "  return mcd(b, a % b)\n",
        "def mcm(a,b):\n",
        "  return a*b/mcd(a,b)\n",
        "\n",
        "num1 = int(input('Dame uno de los valores '))\n",
        "num2 = int(input('Dame el otro de los valores '))\n",
        "print(mcd(num1,num2))\n",
        "print(mcm(num1,num2))"
      ],
      "metadata": {
        "id": "8uMIXF2bI82f",
        "colab": {
          "base_uri": "https://localhost:8080/"
        },
        "outputId": "46d9369b-7526-45a9-8630-1d1698bb0998"
      },
      "execution_count": null,
      "outputs": [
        {
          "output_type": "stream",
          "name": "stdout",
          "text": [
            "Dame uno de los valores 64\n",
            "Dame el otro de los valores 16\n",
            "16\n",
            "16\n",
            "64.0\n"
          ]
        }
      ]
    },
    {
      "cell_type": "markdown",
      "source": [
        "Ejercicio 10\n",
        "Escribir una función que convierta un número decimal en binario y otra que convierta un número binario en decimal."
      ],
      "metadata": {
        "id": "hb1jsp4cI9Jh"
      }
    },
    {
      "cell_type": "code",
      "source": [
        "def bintodec(n):\n",
        "    \"\"\"Función que convierte un número binario en decimal.\n",
        "    Parámetros:\n",
        "        - n: Es una cadena de ceros y unos.\n",
        "    Devuelve:\n",
        "        El número decimal correspondiente a n.\n",
        "    \"\"\"\n",
        "    n = list(n)\n",
        "    n.reverse()\n",
        "    decimal = 0\n",
        "    for i in range(len(n)):\n",
        "        decimal += int(n[i]) * 2 ** i\n",
        "    return decimal\n",
        "\n",
        "def dectobin(n):\n",
        "    \"\"\"Función que convierte un número decimal en binario.\n",
        "    Parámetros:\n",
        "        - n: Es un número entero.\n",
        "    Devuelve:\n",
        "        El número binario correspondiente a n.\n",
        "    \"\"\"\n",
        "    binary = []\n",
        "    while n > 0:\n",
        "        binary.append(str(n % 2))\n",
        "        n //= 2\n",
        "    binary.reverse()\n",
        "    return ''.join(binary)\n",
        "\n",
        "print(to_decimal('10110'))\n",
        "print(to_binary(22))\n",
        "print(to_decimal(to_binary(22)))\n",
        "print(to_binary(to_decimal('10110')))"
      ],
      "metadata": {
        "id": "XGQcIaAII90q"
      },
      "execution_count": null,
      "outputs": []
    },
    {
      "cell_type": "markdown",
      "source": [
        "# Ejercicios Programacion Funcional"
      ],
      "metadata": {
        "id": "Tkw-n49-JKEY"
      }
    },
    {
      "cell_type": "markdown",
      "source": [
        "Ejercicio 1\n",
        "Escribir una función que aplique un descuento a un precio y otra que aplique el IVA a un precio.\n",
        "Escribir una tercera función que reciba un diccionario con los precios y porcentajes de una cesta de la compra, y permita elegir que funcion utilice para aplicar los descuentos o el IVA a los productos de la cesta y devolver el precio final de la cesta.\n"
      ],
      "metadata": {
        "id": "_fJL4flqJVgr"
      }
    },
    {
      "cell_type": "code",
      "source": [
        "def precio_iva(precio,iva):\n",
        "  if iva == None:\n",
        "    return precio*1.21\n",
        "  else:\n",
        "    if iva > 1:\n",
        "      iva = iva/100\n",
        "      return precio*(iva+1)\n",
        "    elif iva != 0.21:\n",
        "      return precio*(iva+1)\n",
        "    else:\n",
        "      return precio*1.21\n",
        "def precio_desc(precio,desc):\n",
        "  if desc == None:\n",
        "    return precio\n",
        "  elif desc > 1:\n",
        "    desc = desc / 100\n",
        "    return precio - precio*desc\n",
        "  else:\n",
        "    return precio - precio*desc\n",
        "def dicprecio(dic,funct):\n",
        "  total = 0\n",
        "  for precio, desc in dic.items():\n",
        "    total += funct(precio, desc)\n",
        "  return total\n",
        "print('El precio de la compra tras aplicar los descuentos es: ', dicprecio({1000:20, 500:10, 100:1}, precio_desc))\n",
        "print('El precio de la compra tras aplicar el IVA es: ', dicprecio({1000:20, 500:10, 100:1}, precio_iva))"
      ],
      "metadata": {
        "id": "e7FrwsDbJU2n",
        "colab": {
          "base_uri": "https://localhost:8080/"
        },
        "outputId": "03020920-b531-4cc3-cf7f-990d069277dc"
      },
      "execution_count": 18,
      "outputs": [
        {
          "output_type": "stream",
          "name": "stdout",
          "text": [
            "El precio de la compra tras aplicar los descuentos es:  1250.0\n",
            "El precio de la compra tras aplicar el IVA es:  1950.0\n"
          ]
        }
      ]
    },
    {
      "cell_type": "markdown",
      "source": [
        "Ejercicio 2\n",
        "Escribir una función que simule una calculadora científica que permita calcular el seno, coseno, tangente, exponencial y logaritmo neperiano. La función preguntará al usuario el valor y la función a aplicar, y mostrará por pantalla una tabla con los enteros de 1 al valor introducido y el resultado de aplicar la función a esos enteros.\n"
      ],
      "metadata": {
        "id": "7-TKCfefJhBB"
      }
    },
    {
      "cell_type": "code",
      "source": [
        "from math import sin, cos, tan, exp, log\n",
        "\n",
        "def apply_function(f, n):\n",
        "    '''\n",
        "    Función que aplica una función a los enteros desde 1 hasta n.\n",
        "    Parámetros:\n",
        "        f: Es una función que recibe un número real y devuelve otro.\n",
        "        n: Es un número entero positivo.\n",
        "    Devuelve:\n",
        "        Un diccionario con los pares i:f(i) para cada valor entero i de 1 a n.\n",
        "    '''\n",
        "    functions = {'sin':sin, 'cos':cos, 'tan':tan, 'exp':exp, 'log':log}\n",
        "    result = {}\n",
        "    for i in range(1, n+1):\n",
        "        result[i] = functions[f](i)\n",
        "    return result\n",
        "\n",
        "def calculator():\n",
        "    '''\n",
        "    Función que aplica una función seleccionada por el usuario (seno, coseno, tangente, exponencial o logarítmo) a la lista de enteros desde 1 hasta n.\n",
        "    Imprime por pantalla una tabla con la secuencia de enteros y el resultado de aplicarles la función introducida.\n",
        "    Parámetros:\n",
        "        f: Es una cadena con la función a aplicar (sin, cos, tan, exp o log).\n",
        "        n: Es un entero positivo.\n",
        "    '''\n",
        "    f = input('Introduce la función a aplicar (sin, cos, tan, exp, log): ')\n",
        "    n = int(input('Introduce un entero positivo: '))\n",
        "    for i, j in apply_function(f, n).items():\n",
        "        print (i, '\\t', j)\n",
        "    return\n",
        "\n",
        "calculator()"
      ],
      "metadata": {
        "id": "s7jcAJkYJhWO",
        "colab": {
          "base_uri": "https://localhost:8080/"
        },
        "outputId": "feaa5fa7-5f5b-47e7-ceb6-0e8f407558fe"
      },
      "execution_count": 19,
      "outputs": [
        {
          "output_type": "stream",
          "name": "stdout",
          "text": [
            "Introduce la función a aplicar (sin, cos, tan, exp, log): sin\n",
            "Introduce un entero positivo: 60\n",
            "1 \t 0.8414709848078965\n",
            "2 \t 0.9092974268256817\n",
            "3 \t 0.1411200080598672\n",
            "4 \t -0.7568024953079282\n",
            "5 \t -0.9589242746631385\n",
            "6 \t -0.27941549819892586\n",
            "7 \t 0.6569865987187891\n",
            "8 \t 0.9893582466233818\n",
            "9 \t 0.4121184852417566\n",
            "10 \t -0.5440211108893698\n",
            "11 \t -0.9999902065507035\n",
            "12 \t -0.5365729180004349\n",
            "13 \t 0.4201670368266409\n",
            "14 \t 0.9906073556948704\n",
            "15 \t 0.6502878401571168\n",
            "16 \t -0.2879033166650653\n",
            "17 \t -0.9613974918795568\n",
            "18 \t -0.750987246771676\n",
            "19 \t 0.14987720966295234\n",
            "20 \t 0.9129452507276277\n",
            "21 \t 0.8366556385360561\n",
            "22 \t -0.008851309290403876\n",
            "23 \t -0.8462204041751706\n",
            "24 \t -0.9055783620066239\n",
            "25 \t -0.13235175009777303\n",
            "26 \t 0.7625584504796027\n",
            "27 \t 0.956375928404503\n",
            "28 \t 0.27090578830786904\n",
            "29 \t -0.6636338842129675\n",
            "30 \t -0.9880316240928618\n",
            "31 \t -0.404037645323065\n",
            "32 \t 0.5514266812416906\n",
            "33 \t 0.9999118601072672\n",
            "34 \t 0.5290826861200238\n",
            "35 \t -0.428182669496151\n",
            "36 \t -0.9917788534431158\n",
            "37 \t -0.6435381333569995\n",
            "38 \t 0.2963685787093853\n",
            "39 \t 0.9637953862840878\n",
            "40 \t 0.7451131604793488\n",
            "41 \t -0.158622668804709\n",
            "42 \t -0.9165215479156338\n",
            "43 \t -0.8317747426285983\n",
            "44 \t 0.017701925105413577\n",
            "45 \t 0.8509035245341184\n",
            "46 \t 0.9017883476488092\n",
            "47 \t 0.123573122745224\n",
            "48 \t -0.7682546613236668\n",
            "49 \t -0.9537526527594719\n",
            "50 \t -0.26237485370392877\n",
            "51 \t 0.6702291758433747\n",
            "52 \t 0.9866275920404853\n",
            "53 \t 0.39592515018183416\n",
            "54 \t -0.5587890488516163\n",
            "55 \t -0.9997551733586199\n",
            "56 \t -0.5215510020869119\n",
            "57 \t 0.43616475524782494\n",
            "58 \t 0.9928726480845371\n",
            "59 \t 0.6367380071391379\n",
            "60 \t -0.3048106211022167\n"
          ]
        }
      ]
    },
    {
      "cell_type": "markdown",
      "source": [
        "Ejercicio 3\n",
        "Escribir una función que reciba una frase y devuelva un diccionario con las palabras que contiene y su longitud.\n",
        "\n",
        "\n"
      ],
      "metadata": {
        "id": "CTg8Qf8pJsDO"
      }
    },
    {
      "cell_type": "code",
      "source": [
        "def length_words(sentence):\n",
        "    '''\n",
        "    Función que recibe una frase y devuelve un diccionario con las palabras que contiene y su longitud.\n",
        "    Parámetros:\n",
        "        sentence: Es una cadena de caracteres con una frase.\n",
        "    Devuelve:\n",
        "        Un diccionario con pares palabra:longitud donde palabra son las palabras que contiene la frase sentence.\n",
        "    '''\n",
        "    words = sentence.split()\n",
        "    lengths = map(len, words)\n",
        "    return dict(zip(words, lengths))\n",
        "\n",
        "print(length_words('Welcome to Python'))"
      ],
      "metadata": {
        "id": "tycsyYJKJuRW",
        "colab": {
          "base_uri": "https://localhost:8080/"
        },
        "outputId": "84b1c82e-afb2-4c0c-f5ab-fda3f8d7d190"
      },
      "execution_count": 20,
      "outputs": [
        {
          "output_type": "stream",
          "name": "stdout",
          "text": [
            "{'Welcome': 7, 'to': 2, 'Python': 6}\n"
          ]
        }
      ]
    },
    {
      "cell_type": "markdown",
      "source": [
        "Ejercicio 4\n",
        "Escribir una función reciba una lista de materias y devuelva la lista de calificaciones correspondientes a esas materias.\n"
      ],
      "metadata": {
        "id": "mIQ_1FxAJukr"
      }
    },
    {
      "cell_type": "code",
      "source": [
        "def grade(score):\n",
        "    '''\n",
        "    Función que devuelve la calificación correspondiente a una nota.\n",
        "    Parámetros:\n",
        "        score: Es un valor real entre 0 y 10.\n",
        "    Devuelve:\n",
        "        La calificación correspondiente a la nota score.\n",
        "    '''\n",
        "    if score < 5:\n",
        "        return 'SS'\n",
        "    elif score < 7:\n",
        "        return 'AP'\n",
        "    elif score < 9:\n",
        "        return 'NT'\n",
        "    elif score < 10:\n",
        "        return 'SB'\n",
        "    else:\n",
        "        return 'MH'\n",
        "\n",
        "def apply_grade(scores):\n",
        "    '''\n",
        "    Función que devuelve la calificación correspondiente a las notas de una lista dada.\n",
        "    Parámetros:\n",
        "        scores: Es una lista de valores reales entre 0 y 10.\n",
        "    Devuelve\n",
        "        La lista de calificaciones correspondiente a las notas de scores.\n",
        "    '''\n",
        "    return list(map(grade, scores))\n",
        "\n",
        "print(apply_grade([6.5, 5, 3.4, 8.2, 2.1, 9.7, 10]))"
      ],
      "metadata": {
        "id": "tR_e7FHwJwfZ"
      },
      "execution_count": null,
      "outputs": []
    },
    {
      "cell_type": "markdown",
      "source": [
        "Ejercicio 5\n",
        "Escribir una función reciba un diccionario con las asignaturas y las notas de un alumno y devuelva otro diccionario con las asignaturas en mayúsculas y las calificaciones correspondientes a las asignaturas.\n"
      ],
      "metadata": {
        "id": "owFlBSlhJwuF"
      }
    },
    {
      "cell_type": "code",
      "source": [
        "def grade(score):\n",
        "    '''\n",
        "    Función que devuelve la calificación correspondiente a una nota.\n",
        "    Parámetros:\n",
        "        score: Es un valor real entre 0 y 10.\n",
        "    Devuelve:\n",
        "        La calificación correspondiente a la nota score.\n",
        "    '''\n",
        "    if score < 5:\n",
        "        return 'SS'\n",
        "    elif score < 7:\n",
        "        return 'AP'\n",
        "    elif score < 9:\n",
        "        return 'NT'\n",
        "    elif score < 10:\n",
        "        return 'SB'\n",
        "    else:\n",
        "        return 'MH'\n",
        "\n",
        "def passed_subject(subject):\n",
        "    '''\n",
        "    Función que recibe una tupla con una asignatura y su nota y devuelve True si la asignatura está aprobada o False si está suspensa.abs\n",
        "    Parámetros:\n",
        "        subject: Es una tupla (asignatura, nota) donde nota es un valor real entre 0 y 10.\n",
        "    Devuelve: True si la nota es mayor o igual que 5 y False si no.abs\n",
        "    '''\n",
        "    return (subject[1] >= 5)\n",
        "\n",
        "\n",
        "def apply_grade(scores):\n",
        "    '''\n",
        "    Función que recibe un diccionario de asignaturas y notas y devuelve otro con las asignaturas en mayúsculas y las calificaciones correspondientes a las notas.\n",
        "    Parámetros:\n",
        "        scores: Es un diccionario con pares asignatura:nota donde nota es un valor real entre 0 y 10.\n",
        "    Devuelve\n",
        "        Un diccionario con pares ASIGNATURA:calificación, donde calificación es la calificación correspondiente a la nota de la asignatura.\n",
        "    '''\n",
        "    passed = dict(filter(passed_subject, scores.items()))\n",
        "    subjects = map(str.upper, passed.keys())\n",
        "    grades = map(grade, passed.values())\n",
        "    return dict(zip(subjects, grades))\n",
        "\n",
        "print(apply_grade({'Matemáticas':6.5, 'Física':5, 'Química':3.4, 'Economía':8.2, 'Historia':9.7, 'Programación':10}))"
      ],
      "metadata": {
        "id": "T-Juf0wlJytM",
        "colab": {
          "base_uri": "https://localhost:8080/"
        },
        "outputId": "31d52c1b-c203-4f67-e362-d581156a0db5"
      },
      "execution_count": 21,
      "outputs": [
        {
          "output_type": "stream",
          "name": "stdout",
          "text": [
            "{'MATEMÁTICAS': 'AP', 'FÍSICA': 'AP', 'ECONOMÍA': 'NT', 'HISTORIA': 'SB', 'PROGRAMACIÓN': 'MH'}\n"
          ]
        }
      ]
    },
    {
      "cell_type": "markdown",
      "source": [
        "Ejercicio 6\n",
        "Escribir una función que calcule el módulo de un vector.\n"
      ],
      "metadata": {
        "id": "GGzv0_80J1L-"
      }
    },
    {
      "cell_type": "code",
      "source": [
        "def sum_square(x, y):\n",
        "    '''\n",
        "    Función que recibe dos valores y calcula la suma del primero más el cuadrado del segundo.\n",
        "    Parámetros:\n",
        "        x: Es un número real.\n",
        "        y: Es un número real.\n",
        "    Devuelve:\n",
        "        x + y²\n",
        "    '''\n",
        "    return x + y ** 2\n",
        "\n",
        "def module(v):\n",
        "    '''\n",
        "    Función que calcula el módulo de un vector.\n",
        "    Parámetros:\n",
        "        v: Una tupla de números reales.\n",
        "    Devuelve:\n",
        "        El módulo del vector v.\n",
        "    '''\n",
        "    from functools import reduce\n",
        "    return reduce(sum_square, v, 0) ** 0.5\n",
        "\n",
        "print(module((3, 4)))\n",
        "print(module((1, 2, 3)))"
      ],
      "metadata": {
        "id": "AJiCvdevJ3HB",
        "colab": {
          "base_uri": "https://localhost:8080/"
        },
        "outputId": "9959f3aa-c6ff-4721-8366-20db5c6ed363"
      },
      "execution_count": 22,
      "outputs": [
        {
          "output_type": "stream",
          "name": "stdout",
          "text": [
            "5.0\n",
            "3.7416573867739413\n"
          ]
        }
      ]
    },
    {
      "cell_type": "markdown",
      "source": [
        "Ejercicio 7\n",
        "\n",
        "Una inmobiliaria de una ciudad maneja una lista de inmuebles como la siguiente:\n",
        "\n",
        "`[{'año': 2000, 'metros': 100, 'habitaciones': 3, 'garaje': True, 'zona': 'A'},\n",
        "{'año': 2012, 'metros': 60, 'habitaciones': 2, 'garaje': True, 'zona': 'B'},\n",
        "{'año': 1980, 'metros': 120, 'habitaciones': 4, 'garaje': False, 'zona': 'A'},\n",
        "{'año': 2005, 'metros': 75, 'habitaciones': 3, 'garaje': True, 'zona': 'B'},\n",
        "{'año': 2015, 'metros': 90, 'habitaciones': 2, 'garaje': False, 'zona': 'A'}]`\n",
        "\n",
        "Construir una función que permita hacer búsqueda de inmuebles en función de un presupuesto dado. La función recibirá como entrada la lista de inmuebles y un precio, y devolverá otra lista con los inmuebles cuyo precio sea menor o igual que el dado. Los inmuebles de la lista que se devuelva deben incorporar un nuevo par a cada diccionario con el precio del inmueble, donde el precio de un inmueble se calcula con las siguiente fórmula en función de la zona:\n",
        "\n",
        "- Zona A: precio = (metros x 1000 + habitaciones x 5000 + garaje x 15000) x (1 - antiguedad / 100)\n",
        "- Zona B: precio = (metros x 1000 + habitaciones x 5000 + garaje x 15000) x (1 - antiguedad / 100) x 1.5"
      ],
      "metadata": {
        "id": "WIXQunmgJ3UU"
      }
    },
    {
      "cell_type": "code",
      "source": [
        "deptos = [{'año': 2000, 'metros': 100, 'habitaciones': 3, 'garaje': True, 'zona': 'A'}, {'año': 2012, 'metros': 60, 'habitaciones': 2, 'garaje': True, 'zona': 'B'}, {'año': 1980, 'metros': 120, 'habitaciones': 4, 'garaje': False, 'zona': 'A'}, {'año': 2005, 'metros': 75, 'habitaciones': 3, 'garaje': True, 'zona': 'B'}, {'año': 2015, 'metros': 90, 'habitaciones': 2, 'garaje': False, 'zona': 'A'}]\n",
        "\n",
        "def añadir_precio(depto):\n",
        "    precio = (depto['metros'] * 1000 + depto['habitaciones'] * 5000 + int(depto['garaje']) * 15000) * (1 - (2020 - depto['año']) / 100)\n",
        "    if depto['zona'] == 'B':\n",
        "        precio *= 1.5\n",
        "    depto['precio'] = precio\n",
        "    return depto\n",
        "\n",
        "def busca_depto(deptos, presupuesto):\n",
        "    def filtro(deptos):\n",
        "        return deptos['precio'] <= presupuesto\n",
        "\n",
        "    return list(filter(filtro,map(añadir_precio, deptos)))\n",
        "\n",
        "print(busca_depto(deptos, 100000))\n"
      ],
      "metadata": {
        "id": "l5sJ5d1MJ66s",
        "colab": {
          "base_uri": "https://localhost:8080/"
        },
        "outputId": "1c7324c5-df8e-42a3-cf92-d261562d6209"
      },
      "execution_count": 23,
      "outputs": [
        {
          "output_type": "stream",
          "name": "stdout",
          "text": [
            "[{'año': 1980, 'metros': 120, 'habitaciones': 4, 'garaje': False, 'zona': 'A', 'precio': 84000.0}, {'año': 2015, 'metros': 90, 'habitaciones': 2, 'garaje': False, 'zona': 'A', 'precio': 95000.0}]\n"
          ]
        }
      ]
    },
    {
      "cell_type": "markdown",
      "source": [
        "Ejercicio 8\n",
        "Escribir una función que reciba una muestra de números y devuelva los valores atípicos, es decir, los valores cuya puntuación típica sea mayor que 3 o menor que -3. Nota: La puntuación típica de un valor se obtiene restando la media y dividiendo por la desviación típica de la muestra."
      ],
      "metadata": {
        "id": "0_JTYGuiJ7Ok"
      }
    },
    {
      "cell_type": "code",
      "source": [
        "from statistics import mean, stdev\n",
        "\n",
        "def atipico(muestra):\n",
        "    media = mean(muestra)\n",
        "    desviacion = stdev(muestra)\n",
        "    def f(n):\n",
        "        puntuacion = (n - media) / desviacion\n",
        "        return (puntuacion < -3) or (puntuacion > 3)\n",
        "    return f\n",
        "\n",
        "def datos_atipicos(muestra):\n",
        "    return list(filter(atipico(muestra), muestra))\n",
        "\n",
        "print(datos_atipicos([1, 2, 3, 4, 5, 6, 7, 8, 9, 10, 1000]))\n"
      ],
      "metadata": {
        "id": "eg8ZKITpJ77c",
        "colab": {
          "base_uri": "https://localhost:8080/"
        },
        "outputId": "9a3b779a-f572-4f1e-ccb4-7aa762ace810"
      },
      "execution_count": 24,
      "outputs": [
        {
          "output_type": "stream",
          "name": "stdout",
          "text": [
            "[1000]\n"
          ]
        }
      ]
    },
    {
      "cell_type": "markdown",
      "source": [
        "# Ejercicios Depuración"
      ],
      "metadata": {
        "id": "DUs7QJ5pKVqS"
      }
    },
    {
      "cell_type": "markdown",
      "source": [
        "Ejercicio 1\n",
        "Corregir los errores sintácticos del siguiente programa:\n",
        "\n",
        "\n",
        "```python\n",
        "contraseña = input('Introduce la contraseña: \")\n",
        "if contraseña in ['sesamo'):\n",
        "  print('Pasa')\n",
        "else\n",
        "  print('No pasa')\n",
        "```\n",
        "\n",
        "\n"
      ],
      "metadata": {
        "id": "qf5hMzEjKpoA"
      }
    },
    {
      "cell_type": "code",
      "source": [
        "contraseña = input('Introduce la contraseña: ')\n",
        "if contraseña in 'sesamo':\n",
        "  print('Pasa')\n",
        "else:\n",
        "  print('No pasa')"
      ],
      "metadata": {
        "id": "EZnFG2A0Ky3n",
        "colab": {
          "base_uri": "https://localhost:8080/"
        },
        "outputId": "06b96ec5-e5f2-468a-8cea-789a98232c38"
      },
      "execution_count": null,
      "outputs": [
        {
          "output_type": "stream",
          "name": "stdout",
          "text": [
            "Introduce la contraseña: sesamo\n",
            "Pasa\n"
          ]
        }
      ]
    },
    {
      "cell_type": "markdown",
      "source": [
        "\n",
        "Ejercicio 2\n",
        "Detectar y corregir los errores del siguiente programa que aplica el iva a una factura:\n",
        "\n",
        "\n",
        "\n",
        "```python\n",
        "base = input('Introduce la base imponible de la factura: ')\n",
        "print(aplica_iva(base, iva))\n",
        "\n",
        "def aplica_iva(base, iva = 21):\n",
        "    base = base * iva   \n",
        "    return base\n",
        "```\n",
        "\n",
        "\n",
        "\n"
      ],
      "metadata": {
        "id": "lbgyqa_5Ku_Y"
      }
    },
    {
      "cell_type": "code",
      "source": [
        "def aplica_iva(base, iva = 1.21):\n",
        "    base = base * iva\n",
        "    return base\n",
        "\n",
        "base = float(input('Introduce la base imponible de la factura: '))\n",
        "print(aplica_iva(base))\n",
        "\n"
      ],
      "metadata": {
        "id": "1Txf4yj6KvgJ",
        "colab": {
          "base_uri": "https://localhost:8080/"
        },
        "outputId": "725a41a2-3b3a-4520-b3ce-13758438cd9c"
      },
      "execution_count": null,
      "outputs": [
        {
          "output_type": "stream",
          "name": "stdout",
          "text": [
            "Introduce la base imponible de la factura: 25000\n",
            "30250.0\n"
          ]
        }
      ]
    },
    {
      "cell_type": "markdown",
      "source": [
        "\n",
        "Ejercicio 3\n",
        "Detectar y corregir los errores del siguiente programa que calcula el producto escalar de dos vectores:\n",
        "\n",
        "\n",
        "\n",
        "```python\n",
        "u = (1, 2, 3)\n",
        "v = (4, 5, 6)\n",
        "\n",
        "def producto_escalar(u, v):\n",
        "    for i in u:\n",
        "        u[i+1] *= v[i+1]\n",
        "    return sum(u)\n",
        "\n",
        "print(producto_escalar(u, v))\n",
        "```\n",
        "\n"
      ],
      "metadata": {
        "id": "HdPTxpA5LGbe"
      }
    },
    {
      "cell_type": "code",
      "source": [
        "import numpy as np\n",
        "def producto_escalar(u, v):\n",
        "  res = []\n",
        "  for i in range(len(u)):\n",
        "      res.append(u[i]*v[i])\n",
        "  return sum(res)\n",
        "\n",
        "u = [1, 2, 3]\n",
        "v = [4, 5, 6]\n",
        "print(producto_escalar(u, v))\n",
        "print(np.dot(u,v))"
      ],
      "metadata": {
        "id": "NdP1On6-LG-N",
        "colab": {
          "base_uri": "https://localhost:8080/"
        },
        "outputId": "cf362e38-3861-4160-c6b9-4b5a71fd303a"
      },
      "execution_count": null,
      "outputs": [
        {
          "output_type": "stream",
          "name": "stdout",
          "text": [
            "32\n",
            "32\n"
          ]
        }
      ]
    },
    {
      "cell_type": "markdown",
      "source": [
        "Ejercicio 4\n",
        "Detectar y corregir los errores del siguiente programa que devuelve y elimina el teléfono de un listín telefónico a través del nombre del usuario:\n",
        "\n",
        "```python\n",
        "listin = {'Juan':123456789, 'Pedro':987654321}\n",
        "\n",
        "def elimina(listin, usuario):\n",
        "    del listin[usuario]\n",
        "    return listin[usuario]\n",
        "\n",
        "print(elimina(listin, 'Pablo'))\n",
        "```\n",
        "\n",
        "\n"
      ],
      "metadata": {
        "id": "CAJNSOwdKv0O"
      }
    },
    {
      "cell_type": "code",
      "source": [
        "listin = {'Juan':123456789, 'Pedro':987654321}\n",
        "\n",
        "def elimina(listin, usuario):\n",
        "    return listin[usuario]\n",
        "    del listin[usuario]\n",
        "\n",
        "\n",
        "print(elimina(listin, 'Pedro'))"
      ],
      "metadata": {
        "id": "OFX_U5dJKwFN",
        "colab": {
          "base_uri": "https://localhost:8080/"
        },
        "outputId": "439049c5-8ce1-426a-9e57-41b880dffae3"
      },
      "execution_count": null,
      "outputs": [
        {
          "output_type": "stream",
          "name": "stdout",
          "text": [
            "987654321\n"
          ]
        }
      ]
    },
    {
      "cell_type": "markdown",
      "source": [
        "Ejercicio 5\n",
        "Detectar y corregir los errores del siguiente programa que multiplica dos matrices:\n",
        "\n",
        "\n",
        "\n",
        "```python\n",
        "a = ((1, 2, 3),\n",
        "     (3, 2, 1))\n",
        "b = ((1, 2),\n",
        "     (3, 4),\n",
        "     (5, 6))\n",
        "\n",
        "def producto(a, b):\n",
        "    producto = []\n",
        "    for i in range(len(b)):\n",
        "        fila = []\n",
        "        for j in range(len(a[0])):\n",
        "            suma = 0\n",
        "            for k in range(len(a[0]+1)):\n",
        "                suma += a[i][k] * b[k+1][j]\n",
        "            fila[j] = suma\n",
        "        producto[i] = tuple(fila)\n",
        "    return tuple(producto)\n",
        "\n",
        "print(producto(a, b))\n",
        "\n",
        "```\n",
        "\n",
        "\n"
      ],
      "metadata": {
        "id": "Twdz7LJLKwbc"
      }
    },
    {
      "cell_type": "code",
      "source": [
        "import numpy as np\n",
        "a = ((1, 2, 3),\n",
        "     (3, 2, 1))\n",
        "b = ((1, 2),\n",
        "     (3, 4),\n",
        "     (5, 6))\n",
        "\n",
        "def producto(a, b):\n",
        "    producto = []\n",
        "    for i in range(len(a)):\n",
        "        fila = []\n",
        "        for j in range(len(b[0])):\n",
        "            suma = 0\n",
        "            for k in range(len(a[0])):\n",
        "                suma += a[i][k] * b[k][j]\n",
        "            fila.append(suma)\n",
        "        producto.append(tuple(fila))\n",
        "    return tuple(producto)\n",
        "\n",
        "print(producto(a, b))\n",
        "print(np.matmul(a,b))"
      ],
      "metadata": {
        "id": "OJ_mGl0ZKws_",
        "colab": {
          "base_uri": "https://localhost:8080/"
        },
        "outputId": "fc556019-2bd2-4006-edb6-e2425ffad387"
      },
      "execution_count": null,
      "outputs": [
        {
          "output_type": "stream",
          "name": "stdout",
          "text": [
            "((22, 28), (14, 20))\n",
            "[[22 28]\n",
            " [14 20]]\n"
          ]
        }
      ]
    }
  ]
}